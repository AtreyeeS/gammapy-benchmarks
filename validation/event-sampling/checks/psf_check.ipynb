{
 "cells": [
  {
   "cell_type": "markdown",
   "metadata": {},
   "source": [
    "# PSF Check"
   ]
  },
  {
   "cell_type": "code",
   "execution_count": 1,
   "metadata": {},
   "outputs": [],
   "source": [
    "from gammapy.cube import PSFMap\n",
    "from gammapy.irf import EnergyDependentTablePSF"
   ]
  },
  {
   "cell_type": "code",
   "execution_count": 162,
   "metadata": {},
   "outputs": [],
   "source": [
    "from pathlib import Path\n",
    "import copy\n",
    "\n",
    "from astropy.coordinates import SkyCoord\n",
    "from astropy.table import Table\n",
    "from gammapy.maps import WcsGeom\n",
    "from gammapy.modeling.models import (\n",
    "    Models,\n",
    "    PointSpatialModel,\n",
    "    PowerLawSpectralModel,\n",
    "    SkyModel,\n",
    ")\n",
    "from gammapy.data import GTI, Observation, EventList\n",
    "from gammapy.maps import MapAxis, WcsGeom, Map, MapCoord\n",
    "from gammapy.maps.profile import ImageProfile, ImageProfileEstimator\n",
    "from gammapy.irf import EnergyDispersion2D, PSF3D, EnergyDependentMultiGaussPSF, load_cta_irfs\n",
    "\n",
    "from gammapy.cube import (\n",
    "    MapDataset,\n",
    "    MapDatasetEventSampler,\n",
    "    MapDatasetMaker,\n",
    ")\n",
    "from gammapy.utils.random import get_random_state\n"
   ]
  },
  {
   "cell_type": "code",
   "execution_count": 3,
   "metadata": {},
   "outputs": [],
   "source": [
    "import numpy as np\n",
    "from scipy.stats import norm\n",
    "from scipy.optimize import curve_fit\n",
    "import matplotlib.pyplot as plt\n",
    "from matplotlib import colors\n",
    "from matplotlib.ticker import PercentFormatter\n",
    "import astropy.units as u\n"
   ]
  },
  {
   "cell_type": "code",
   "execution_count": 4,
   "metadata": {},
   "outputs": [],
   "source": [
    "def get_filename_dataset(livetime):\n",
    "    filename = f\"data/dataset_{livetime.value:.0f}{livetime.unit}.fits.gz\"\n",
    "    return BASE_PATH / filename\n",
    "\n",
    "\n",
    "def get_filename_events(filename_dataset, filename_model, obs_id):\n",
    "    obs_id=int(obs_id)\n",
    "    model_str = filename_model.name.replace(filename_model.suffix, \"\")\n",
    "    filename_events = filename_dataset.name.replace(\"dataset\", \"events\")\n",
    "    filename_events = BASE_PATH / f\"data/models/{model_str}/\" / filename_events\n",
    "    filename_events = filename_events.name.replace(\".fits.gz\", f\"_{obs_id:04d}.fits.gz\")\n",
    "    path = BASE_PATH / f\"data/models/{model_str}/\" / filename_events\n",
    "    return path\n"
   ]
  },
  {
   "cell_type": "code",
   "execution_count": 5,
   "metadata": {},
   "outputs": [],
   "source": [
    "def gaussian(x, amp, wid):\n",
    "    return amp * np.exp(-(x)**2 / (2*wid**2.))\n"
   ]
  },
  {
   "cell_type": "code",
   "execution_count": 6,
   "metadata": {},
   "outputs": [],
   "source": [
    "BASE_PATH = Path(\"../make.py\").parent"
   ]
  },
  {
   "cell_type": "code",
   "execution_count": 7,
   "metadata": {},
   "outputs": [],
   "source": [
    "model = \"point-pwlsimple\"\n",
    "filename_model = BASE_PATH / f\"models/{model}.yaml\"\n"
   ]
  },
  {
   "cell_type": "code",
   "execution_count": 403,
   "metadata": {},
   "outputs": [],
   "source": [
    "IRF_FILE = \"$GAMMAPY_DATA/cta-1dc/caldb/data/cta/1dc/bcf/South_z20_50h/irf_file.fits\"\n",
    "POINTING = SkyCoord(0.0, 0.0, frame=\"galactic\", unit=\"deg\")\n",
    "LIVETIME = 10 * u.hr\n",
    "GTI_TABLE = GTI.create(start=0 * u.s, stop=LIVETIME.to(u.s))\n",
    "\n",
    "# dataset config\n",
    "ENERGY_AXIS = MapAxis.from_energy_bounds(\"0.1 TeV\", \"100 TeV\", nbin=10, per_decade=True)\n",
    "ENERGY_AXIS_TRUE = MapAxis.from_energy_bounds(\"0.03 TeV\", \"300 TeV\", nbin=20, per_decade=True)\n",
    "MIGRA_AXIS = MapAxis.from_bounds(0.5, 2, nbin=150, node_type=\"edges\", name=\"migra\")\n",
    "\n",
    "width=0.15\n",
    "bins=0.01\n",
    "WCS_GEOM = WcsGeom.create(\n",
    "    skydir=POINTING, width=(width, width), binsz=bins, frame=\"galactic\", axes=[ENERGY_AXIS]\n",
    ")\n"
   ]
  },
  {
   "cell_type": "markdown",
   "metadata": {},
   "source": [
    "### Create the dataset"
   ]
  },
  {
   "cell_type": "code",
   "execution_count": 408,
   "metadata": {},
   "outputs": [],
   "source": [
    "spatial_model = PointSpatialModel(lon_0=\"0.0deg\", lat_0=\"0.0deg\", frame=\"galactic\")\n",
    "spectral_model = PowerLawSpectralModel(amplitude=\"1e-11 cm-2 s-1 TeV-1\")\n",
    "skymodel = SkyModel(spatial_model=spatial_model, spectral_model=spectral_model)\n",
    "\n",
    "#Now we create a reference exposure map, we use to evaluate the model:\n",
    "exposure = Map.create(\n",
    "    binsz=0.02,\n",
    "    map_type='wcs',\n",
    "    skydir=POINTING,\n",
    "    width=\"5 deg\",\n",
    "    axes=[ENERGY_AXIS],\n",
    "    frame=\"galactic\", unit=\"cm2 s\"\n",
    ")\n",
    "\n",
    "exposure.data = 1e10 * 1000 * np.ones(exposure.data.shape)\n",
    "\n",
    "evaluator = MapDataset.create(WCS_GEOM, models=skymodel)\n",
    "evaluator.exposure.data += 1e13\n",
    "n=evaluator.npred()\n",
    "np.sum(n.data)\n",
    "\n",
    "random_state = get_random_state(0)\n",
    "n_events = random_state.poisson(np.sum(n.data))\n",
    "coords = npred.sample_coord(n_events, random_state)\n",
    "### DOESN'T WORK...."
   ]
  },
  {
   "cell_type": "markdown",
   "metadata": {},
   "source": [
    "#### START HERE"
   ]
  },
  {
   "cell_type": "code",
   "execution_count": 14,
   "metadata": {},
   "outputs": [
    {
     "name": "stderr",
     "output_type": "stream",
     "text": [
      "WARNING: AstropyDeprecationWarning: The truth value of a Quantity is ambiguous. In the future this will raise a ValueError. [astropy.units.quantity]\n"
     ]
    }
   ],
   "source": [
    "irfs = load_cta_irfs(IRF_FILE)\n",
    "\n",
    "observation = Observation.create(\n",
    "                                 obs_id=1001, pointing=POINTING, livetime=LIVETIME, irfs=irfs\n",
    "                                 )\n",
    "\n",
    "empty = MapDataset.create(WCS_GEOM, energy_axis_true=ENERGY_AXIS_TRUE, migra_axis=MIGRA_AXIS)\n",
    "maker = MapDatasetMaker(selection=[\"exposure\"])\n",
    "dataset = maker.run(empty, observation)"
   ]
  },
  {
   "cell_type": "code",
   "execution_count": 15,
   "metadata": {},
   "outputs": [],
   "source": [
    "models = Models.read(filename_model)\n",
    "dataset.models = models"
   ]
  },
  {
   "cell_type": "code",
   "execution_count": 16,
   "metadata": {},
   "outputs": [],
   "source": [
    "evaluator=dataset._evaluators[0]\n",
    "npred = evaluator.compute_npred()"
   ]
  },
  {
   "cell_type": "code",
   "execution_count": 131,
   "metadata": {},
   "outputs": [],
   "source": [
    "# a=npred.sum_over_axes()"
   ]
  },
  {
   "cell_type": "code",
   "execution_count": null,
   "metadata": {},
   "outputs": [],
   "source": []
  },
  {
   "cell_type": "markdown",
   "metadata": {},
   "source": [
    "#### Simulate the events"
   ]
  },
  {
   "cell_type": "code",
   "execution_count": 18,
   "metadata": {},
   "outputs": [],
   "source": [
    "random_state = get_random_state(0)\n",
    "n_events = random_state.poisson(np.sum(npred.data))\n",
    "coords = npred.sample_coord(n_events, random_state)"
   ]
  },
  {
   "cell_type": "code",
   "execution_count": 19,
   "metadata": {},
   "outputs": [],
   "source": [
    "coord = SkyCoord(coords['lon'], coords['lat'], frame='galactic')"
   ]
  },
  {
   "cell_type": "code",
   "execution_count": 20,
   "metadata": {},
   "outputs": [],
   "source": [
    "ra,dec = coord.icrs.ra.value,coord.icrs.dec.value "
   ]
  },
  {
   "cell_type": "markdown",
   "metadata": {},
   "source": [
    "#### Pointlike source distribution"
   ]
  },
  {
   "cell_type": "code",
   "execution_count": 21,
   "metadata": {},
   "outputs": [],
   "source": [
    "model = PointSpatialModel(lon_0=\"0.01deg\", lat_0=\"0.01deg\", frame=\"galactic\",)\n",
    "\n",
    "geom = WcsGeom.create(\n",
    "    skydir=SkyCoord(\"0.0d 0.0d\", frame=\"galactic\"), width=(width, width), binsz=bins\n",
    ")"
   ]
  },
  {
   "cell_type": "markdown",
   "metadata": {},
   "source": [
    "#### Compare the 2Dhistograms"
   ]
  },
  {
   "cell_type": "code",
   "execution_count": 22,
   "metadata": {},
   "outputs": [
    {
     "data": {
      "text/plain": [
       "<matplotlib.colorbar.Colorbar at 0x11900e160>"
      ]
     },
     "execution_count": 22,
     "metadata": {},
     "output_type": "execute_result"
    },
    {
     "data": {
      "image/png": "[encoded data removed]",
      "text/plain": [
       "<Figure size 432x288 with 2 Axes>"
      ]
     },
     "metadata": {
      "needs_background": "light"
     },
     "output_type": "display_data"
    },
    {
     "data": {
      "image/png": "[encoded data removed]",
      "text/plain": [
       "<Figure size 432x288 with 2 Axes>"
      ]
     },
     "metadata": {
      "needs_background": "light"
     },
     "output_type": "display_data"
    }
   ],
   "source": [
    "#plot the point source\n",
    "model.plot(geom=geom, add_cbar=True)\n",
    "\n",
    "#plot the npred histogram\n",
    "plt.subplots(1,1)\n",
    "weights = np.ones_like(ra)/float(len(ra))\n",
    "plt.hist2d(ra,dec, bins=2, \n",
    "           cmap=plt.cm.YlOrRd, weights=weights,\n",
    "          )\n",
    "plt.xlim(266.36,266.45)\n",
    "plt.ylim(-28.96,-28.91)\n",
    "plt.colorbar()"
   ]
  },
  {
   "cell_type": "code",
   "execution_count": null,
   "metadata": {},
   "outputs": [],
   "source": []
  },
  {
   "cell_type": "markdown",
   "metadata": {},
   "source": [
    "### Create a fake PSF"
   ]
  },
  {
   "cell_type": "code",
   "execution_count": 500,
   "metadata": {},
   "outputs": [],
   "source": [
    "psf_gauss = EnergyDependentMultiGaussPSF.read(filename=IRF_FILE, hdu=\"POINT SPREAD FUNCTION\")\n",
    "test = copy.deepcopy(psf_gauss.sigmas)\n",
    "psf_gauss.sigmas[0][:] =  0.1\n",
    "test[0][:] = 0.1\n",
    "psf_gauss.norms[0][:] = 1\n",
    "psf_3d = psf_gauss.to_psf3d(rad=np.linspace(0, 1, 100) * u.deg)"
   ]
  },
  {
   "cell_type": "code",
   "execution_count": 501,
   "metadata": {},
   "outputs": [
    {
     "data": {
      "text/plain": [
       "[array([[0.1, 0.1, 0.1, 0.1, 0.1, 0.1, 0.1, 0.1, 0.1, 0.1, 0.1, 0.1, 0.1,\n",
       "         0.1, 0.1, 0.1, 0.1, 0.1, 0.1, 0.1, 0.1, 0.1, 0.1, 0.1, 0.1],\n",
       "        [0.1, 0.1, 0.1, 0.1, 0.1, 0.1, 0.1, 0.1, 0.1, 0.1, 0.1, 0.1, 0.1,\n",
       "         0.1, 0.1, 0.1, 0.1, 0.1, 0.1, 0.1, 0.1, 0.1, 0.1, 0.1, 0.1],\n",
       "        [0.1, 0.1, 0.1, 0.1, 0.1, 0.1, 0.1, 0.1, 0.1, 0.1, 0.1, 0.1, 0.1,\n",
       "         0.1, 0.1, 0.1, 0.1, 0.1, 0.1, 0.1, 0.1, 0.1, 0.1, 0.1, 0.1],\n",
       "        [0.1, 0.1, 0.1, 0.1, 0.1, 0.1, 0.1, 0.1, 0.1, 0.1, 0.1, 0.1, 0.1,\n",
       "         0.1, 0.1, 0.1, 0.1, 0.1, 0.1, 0.1, 0.1, 0.1, 0.1, 0.1, 0.1],\n",
       "        [0.1, 0.1, 0.1, 0.1, 0.1, 0.1, 0.1, 0.1, 0.1, 0.1, 0.1, 0.1, 0.1,\n",
       "         0.1, 0.1, 0.1, 0.1, 0.1, 0.1, 0.1, 0.1, 0.1, 0.1, 0.1, 0.1],\n",
       "        [0.1, 0.1, 0.1, 0.1, 0.1, 0.1, 0.1, 0.1, 0.1, 0.1, 0.1, 0.1, 0.1,\n",
       "         0.1, 0.1, 0.1, 0.1, 0.1, 0.1, 0.1, 0.1, 0.1, 0.1, 0.1, 0.1]],\n",
       "       dtype=float32),\n",
       " array([[1., 1., 1., 1., 1., 1., 1., 1., 1., 1., 1., 1., 1., 1., 1., 1.,\n",
       "         1., 1., 1., 1., 1., 1., 1., 1., 1.],\n",
       "        [1., 1., 1., 1., 1., 1., 1., 1., 1., 1., 1., 1., 1., 1., 1., 1.,\n",
       "         1., 1., 1., 1., 1., 1., 1., 1., 1.],\n",
       "        [1., 1., 1., 1., 1., 1., 1., 1., 1., 1., 1., 1., 1., 1., 1., 1.,\n",
       "         1., 1., 1., 1., 1., 1., 1., 1., 1.],\n",
       "        [1., 1., 1., 1., 1., 1., 1., 1., 1., 1., 1., 1., 1., 1., 1., 1.,\n",
       "         1., 1., 1., 1., 1., 1., 1., 1., 1.],\n",
       "        [1., 1., 1., 1., 1., 1., 1., 1., 1., 1., 1., 1., 1., 1., 1., 1.,\n",
       "         1., 1., 1., 1., 1., 1., 1., 1., 1.],\n",
       "        [1., 1., 1., 1., 1., 1., 1., 1., 1., 1., 1., 1., 1., 1., 1., 1.,\n",
       "         1., 1., 1., 1., 1., 1., 1., 1., 1.]], dtype=float32),\n",
       " array([[1., 1., 1., 1., 1., 1., 1., 1., 1., 1., 1., 1., 1., 1., 1., 1.,\n",
       "         1., 1., 1., 1., 1., 1., 1., 1., 1.],\n",
       "        [1., 1., 1., 1., 1., 1., 1., 1., 1., 1., 1., 1., 1., 1., 1., 1.,\n",
       "         1., 1., 1., 1., 1., 1., 1., 1., 1.],\n",
       "        [1., 1., 1., 1., 1., 1., 1., 1., 1., 1., 1., 1., 1., 1., 1., 1.,\n",
       "         1., 1., 1., 1., 1., 1., 1., 1., 1.],\n",
       "        [1., 1., 1., 1., 1., 1., 1., 1., 1., 1., 1., 1., 1., 1., 1., 1.,\n",
       "         1., 1., 1., 1., 1., 1., 1., 1., 1.],\n",
       "        [1., 1., 1., 1., 1., 1., 1., 1., 1., 1., 1., 1., 1., 1., 1., 1.,\n",
       "         1., 1., 1., 1., 1., 1., 1., 1., 1.],\n",
       "        [1., 1., 1., 1., 1., 1., 1., 1., 1., 1., 1., 1., 1., 1., 1., 1.,\n",
       "         1., 1., 1., 1., 1., 1., 1., 1., 1.]], dtype=float32)]"
      ]
     },
     "execution_count": 501,
     "metadata": {},
     "output_type": "execute_result"
    }
   ],
   "source": [
    "psf_gauss.sigmas"
   ]
  },
  {
   "cell_type": "code",
   "execution_count": 511,
   "metadata": {},
   "outputs": [
    {
     "data": {
      "text/plain": [
       "array([[0.15095922]])"
      ]
     },
     "execution_count": 511,
     "metadata": {},
     "output_type": "execute_result"
    }
   ],
   "source": [
    "psf_gauss.containment_radius(1 *u.TeV,0.0*u.rad).deg"
   ]
  },
  {
   "cell_type": "code",
   "execution_count": 512,
   "metadata": {},
   "outputs": [
    {
     "data": {
      "image/png": "[encoded data removed]",
      "text/plain": [
       "<Figure size 432x288 with 1 Axes>"
      ]
     },
     "metadata": {
      "needs_background": "light"
     },
     "output_type": "display_data"
    }
   ],
   "source": [
    "psf_gauss.plot_containment_vs_energy()"
   ]
  },
  {
   "cell_type": "markdown",
   "metadata": {},
   "source": [
    "##### Create the dataset"
   ]
  },
  {
   "cell_type": "code",
   "execution_count": 430,
   "metadata": {},
   "outputs": [
    {
     "name": "stderr",
     "output_type": "stream",
     "text": [
      "WARNING: AstropyDeprecationWarning: The truth value of a Quantity is ambiguous. In the future this will raise a ValueError. [astropy.units.quantity]\n"
     ]
    }
   ],
   "source": [
    "irfs = load_cta_irfs(IRF_FILE)\n",
    "\n",
    "irfs['psf'] = psf_3d\n",
    "\n",
    "observation = Observation.create(\n",
    "                                 obs_id=1001, pointing=POINTING, livetime=LIVETIME*10, irfs=irfs\n",
    "                                 )\n",
    "\n",
    "empty = MapDataset.create(WCS_GEOM, energy_axis_true=ENERGY_AXIS_TRUE, migra_axis=MIGRA_AXIS)\n",
    "maker = MapDatasetMaker(selection=[\"exposure\", \"psf\"])\n",
    "dataset = maker.run(empty, observation)"
   ]
  },
  {
   "cell_type": "markdown",
   "metadata": {},
   "source": [
    "##### Simulate the events"
   ]
  },
  {
   "cell_type": "code",
   "execution_count": 431,
   "metadata": {},
   "outputs": [],
   "source": [
    "models = Models.read(filename_model)\n",
    "dataset.models = models\n",
    "observation = Observation.create(\n",
    "    obs_id=1001, pointing=POINTING, livetime=LIVETIME, irfs=irfs\n",
    ")\n",
    "\n",
    "sampler = MapDatasetEventSampler(random_state=0)\n",
    "events = sampler.run(dataset, observation)\n",
    "tab=copy.deepcopy(events)"
   ]
  },
  {
   "cell_type": "code",
   "execution_count": 432,
   "metadata": {},
   "outputs": [],
   "source": [
    "# events.table.write('list.fits', format='fits')"
   ]
  },
  {
   "cell_type": "code",
   "execution_count": 433,
   "metadata": {},
   "outputs": [],
   "source": [
    "tab.table = tab.table['RA','DEC','ENERGY']"
   ]
  },
  {
   "cell_type": "code",
   "execution_count": 434,
   "metadata": {},
   "outputs": [],
   "source": [
    "# tab.table"
   ]
  },
  {
   "cell_type": "code",
   "execution_count": 435,
   "metadata": {},
   "outputs": [
    {
     "data": {
      "text/plain": [
       "(<Figure size 432x288 with 2 Axes>,\n",
       " <matplotlib.axes._subplots.WCSAxesSubplot at 0x12ae48d68>,\n",
       " <matplotlib.colorbar.Colorbar at 0x129a64390>)"
      ]
     },
     "execution_count": 435,
     "metadata": {},
     "output_type": "execute_result"
    },
    {
     "data": {
      "image/png": "[encoded data removed]",
      "text/plain": [
       "<Figure size 432x288 with 2 Axes>"
      ]
     },
     "metadata": {
      "needs_background": "light"
     },
     "output_type": "display_data"
    }
   ],
   "source": [
    "counts = Map.create(frame=\"galactic\", skydir=(0, 0.), binsz=0.01, npix=(100, 100))\n",
    "counts.fill_events(tab)\n",
    "counts.plot(add_cbar=True)"
   ]
  },
  {
   "cell_type": "code",
   "execution_count": 436,
   "metadata": {},
   "outputs": [],
   "source": [
    "p = ImageProfileEstimator(method='sum', axis='radial', center=POINTING)\n",
    "profile = p.run(counts)"
   ]
  },
  {
   "cell_type": "code",
   "execution_count": 440,
   "metadata": {},
   "outputs": [],
   "source": [
    "index1 = np.where(profile.table['profile']>0)\n",
    "dr1 = (profile.table['x_max']-profile.table['x_min'])[index1]\n",
    "x1 = profile.table['x_ref'][index1]\n",
    "y1 = profile.table['profile'][index1]#*2*np.pi*x1*dr1\n",
    "yerr1 = y1**0.5"
   ]
  },
  {
   "cell_type": "code",
   "execution_count": 473,
   "metadata": {},
   "outputs": [
    {
     "name": "stdout",
     "output_type": "stream",
     "text": [
      "############\n",
      "This is the normalization: 1752.8514582003006 +\\- 42.13211973274952\n",
      "This is the sigma: 0.1000704670146954 +\\- 0.0013916890639135405\n",
      "############\n"
     ]
    }
   ],
   "source": [
    "init_vals = [6, 0.1]\n",
    "best_vals, covar = curve_fit(gaussian, x1, \n",
    "                             (y1), \n",
    "                             p0=init_vals, \n",
    "                             sigma=yerr1)\n",
    "\n",
    "print(\"############\")\n",
    "print(f\"This is the normalization: {best_vals[0]} +\\- {covar[0,0]**0.5}\")\n",
    "print(f\"This is the sigma: {best_vals[1]} +\\- {covar[1,1]**0.5}\")\n",
    "print(\"############\")"
   ]
  },
  {
   "cell_type": "code",
   "execution_count": 477,
   "metadata": {},
   "outputs": [
    {
     "data": {
      "image/png": "[encoded data removed]",
      "text/plain": [
       "<Figure size 432x288 with 1 Axes>"
      ]
     },
     "metadata": {
      "needs_background": "light"
     },
     "output_type": "display_data"
    }
   ],
   "source": [
    "plt.errorbar(x1, y1, yerr=yerr1)\n",
    "plt.plot(x1, gaussian(x1,*best_vals))\n",
    "plt.show()"
   ]
  },
  {
   "cell_type": "markdown",
   "metadata": {},
   "source": [
    "#### Check sample_psf_coord()"
   ]
  },
  {
   "cell_type": "code",
   "execution_count": 443,
   "metadata": {},
   "outputs": [],
   "source": [
    "table = Table()"
   ]
  },
  {
   "cell_type": "code",
   "execution_count": 444,
   "metadata": {},
   "outputs": [],
   "source": [
    "n_events = int(len(events.table))\n",
    "table['RA_TRUE'] = np.ones(n_events)*266.40498829 * u.deg\n",
    "table['DEC_TRUE'] = np.ones(n_events)*-28.93617776 * u.deg\n",
    "table['ENERGY_TRUE'] = events.table['ENERGY_TRUE']\n",
    "table = EventList(table)"
   ]
  },
  {
   "cell_type": "code",
   "execution_count": 445,
   "metadata": {},
   "outputs": [],
   "source": [
    "sampler = MapDatasetEventSampler(random_state=0)\n",
    "evt_psf_mod = sampler.sample_psf(dataset.psf, table)"
   ]
  },
  {
   "cell_type": "code",
   "execution_count": 446,
   "metadata": {},
   "outputs": [
    {
     "data": {
      "text/plain": [
       "(<Figure size 432x288 with 2 Axes>,\n",
       " <matplotlib.axes._subplots.WCSAxesSubplot at 0x129bc5828>,\n",
       " <matplotlib.colorbar.Colorbar at 0x129ded048>)"
      ]
     },
     "execution_count": 446,
     "metadata": {},
     "output_type": "execute_result"
    },
    {
     "data": {
      "image/png": "[encoded data removed]",
      "text/plain": [
       "<Figure size 432x288 with 2 Axes>"
      ]
     },
     "metadata": {
      "needs_background": "light"
     },
     "output_type": "display_data"
    }
   ],
   "source": [
    "counts2 = Map.create(frame=\"galactic\", skydir=(0, 0.), binsz=0.01, npix=(100, 100))\n",
    "counts2.fill_events(evt_psf_mod)\n",
    "counts2.plot(add_cbar=True)"
   ]
  },
  {
   "cell_type": "code",
   "execution_count": 447,
   "metadata": {},
   "outputs": [],
   "source": [
    "p = ImageProfileEstimator(method='sum', axis='radial', center=POINTING)\n",
    "profile = p.run(counts2)"
   ]
  },
  {
   "cell_type": "code",
   "execution_count": 448,
   "metadata": {},
   "outputs": [],
   "source": [
    "index2 = np.where(profile.table['profile']>0)\n",
    "dr2 = (profile.table['x_max']-profile.table['x_min'])[index2]\n",
    "x2 = profile.table['x_ref'][index2]\n",
    "y2 = profile.table['profile'][index2]#*2*np.pi*x2*dr2\n",
    "yerr2 = y2**0.5"
   ]
  },
  {
   "cell_type": "code",
   "execution_count": 475,
   "metadata": {},
   "outputs": [
    {
     "name": "stdout",
     "output_type": "stream",
     "text": [
      "############\n",
      "This is the normalization: 1760.9013870486813 +\\- 43.33275459552648\n",
      "This is the sigma: 0.0993973747897912 +\\- 0.0014076921168073324\n",
      "############\n"
     ]
    }
   ],
   "source": [
    "init_vals = [6, 0.1]\n",
    "best_vals, covar = curve_fit(gaussian, x2, \n",
    "                             (y2), \n",
    "                             p0=init_vals, \n",
    "                             sigma=yerr2)\n",
    "\n",
    "print(\"############\")\n",
    "print(f\"This is the normalization: {best_vals[0]} +\\- {covar[0,0]**0.5}\")\n",
    "print(f\"This is the sigma: {best_vals[1]} +\\- {covar[1,1]**0.5}\")\n",
    "print(\"############\")"
   ]
  },
  {
   "cell_type": "code",
   "execution_count": 478,
   "metadata": {},
   "outputs": [
    {
     "data": {
      "image/png": "[encoded data removed]",
      "text/plain": [
       "<Figure size 432x288 with 1 Axes>"
      ]
     },
     "metadata": {
      "needs_background": "light"
     },
     "output_type": "display_data"
    }
   ],
   "source": [
    "plt.errorbar(x2, y2, yerr=yerr2)\n",
    "plt.plot(x2, gaussian(x2,*best_vals))\n",
    "plt.show()"
   ]
  },
  {
   "cell_type": "markdown",
   "metadata": {},
   "source": [
    "#### Comparing 1D histograms"
   ]
  },
  {
   "cell_type": "code",
   "execution_count": 451,
   "metadata": {},
   "outputs": [
    {
     "name": "stderr",
     "output_type": "stream",
     "text": [
      "WARNING: AstropyDeprecationWarning: The truth value of a Quantity is ambiguous. In the future this will raise a ValueError. [astropy.units.quantity]\n"
     ]
    }
   ],
   "source": [
    "models = Models.read(filename_model)\n",
    "dataset.models = models\n",
    "sampler = MapDatasetEventSampler(random_state=0)\n",
    "observation = Observation.create(\n",
    "    obs_id=1001, pointing=POINTING, livetime=LIVETIME, irfs=irfs\n",
    ")\n",
    "\n",
    "events = sampler.run(dataset, observation)"
   ]
  },
  {
   "cell_type": "code",
   "execution_count": 452,
   "metadata": {},
   "outputs": [],
   "source": [
    "src_pos = SkyCoord(0.0*u.deg, 0.0*u.deg, frame='galactic')\n",
    "evt_pos = SkyCoord(events.table['RA'], events.table['DEC'], frame='icrs')\n",
    "evt_pos_psf_mod = SkyCoord(evt_psf_mod.table['RA'], evt_psf_mod.table['DEC'], frame='icrs')\n",
    "sep = src_pos.separation(evt_pos).value\n",
    "sep_other = src_pos.separation(evt_pos_psf_mod).value"
   ]
  },
  {
   "cell_type": "code",
   "execution_count": 453,
   "metadata": {},
   "outputs": [
    {
     "data": {
      "text/plain": [
       "<matplotlib.legend.Legend at 0x129c76cf8>"
      ]
     },
     "execution_count": 453,
     "metadata": {},
     "output_type": "execute_result"
    },
    {
     "data": {
      "image/png": "[encoded data removed]",
      "text/plain": [
       "<Figure size 432x288 with 1 Axes>"
      ]
     },
     "metadata": {
      "needs_background": "light"
     },
     "output_type": "display_data"
    }
   ],
   "source": [
    "plt.hist(sep_other, bins=50, label='fixed coordinates')\n",
    "plt.hist(sep, bins=50, label='')\n",
    "# plt.plot(x[2:], gaussian(x[2:],5000,0.1))\n",
    "plt.legend()"
   ]
  },
  {
   "cell_type": "markdown",
   "metadata": {},
   "source": [
    "### Compare the npred profile with the simulated events"
   ]
  },
  {
   "cell_type": "code",
   "execution_count": 454,
   "metadata": {},
   "outputs": [],
   "source": [
    "evaluator=dataset._evaluators[0]\n",
    "npred = evaluator.compute_npred()"
   ]
  },
  {
   "cell_type": "code",
   "execution_count": 481,
   "metadata": {},
   "outputs": [],
   "source": [
    "a=evaluator.apply_psf(npred)"
   ]
  },
  {
   "cell_type": "code",
   "execution_count": 487,
   "metadata": {},
   "outputs": [
    {
     "data": {
      "image/png": "[encoded data removed]",
      "text/plain": [
       "<Figure size 432x288 with 2 Axes>"
      ]
     },
     "metadata": {
      "needs_background": "light"
     },
     "output_type": "display_data"
    }
   ],
   "source": [
    "a.plot_interactive(add_cbar=True)\n",
    "npred.plot_interactive(add_cbar=True)"
   ]
  },
  {
   "cell_type": "code",
   "execution_count": 488,
   "metadata": {},
   "outputs": [],
   "source": [
    "p = ImageProfileEstimator(method='sum', axis='radial', center=POINTING)\n",
    "# profile = p.run(a)\n",
    "profile = p.run(npred)"
   ]
  },
  {
   "cell_type": "code",
   "execution_count": 489,
   "metadata": {},
   "outputs": [
    {
     "data": {
      "text/html": [
       "<i>Table length=10</i>\n",
       "<table id=\"table5044925440\" class=\"table-striped table-bordered table-condensed\">\n",
       "<thead><tr><th>x_min</th><th>x_max</th><th>x_ref</th><th>profile</th></tr></thead>\n",
       "<thead><tr><th>deg</th><th>deg</th><th>deg</th><th></th></tr></thead>\n",
       "<thead><tr><th>float64</th><th>float64</th><th>float64</th><th>float64</th></tr></thead>\n",
       "<tr><td>0.0</td><td>0.01</td><td>0.005</td><td>35.369256674312055</td></tr>\n",
       "<tr><td>0.01</td><td>0.02</td><td>0.015</td><td>280.37111206911504</td></tr>\n",
       "<tr><td>0.02</td><td>0.03</td><td>0.025</td><td>684.626974386163</td></tr>\n",
       "<tr><td>0.03</td><td>0.04</td><td>0.035</td><td>533.3917473750189</td></tr>\n",
       "<tr><td>0.04</td><td>0.05</td><td>0.045</td><td>1023.8221172792837</td></tr>\n",
       "<tr><td>0.05</td><td>0.06</td><td>0.055</td><td>975.829424995929</td></tr>\n",
       "<tr><td>0.06</td><td>0.07</td><td>0.065</td><td>1039.9760806690902</td></tr>\n",
       "<tr><td>0.07</td><td>0.08</td><td>0.07500000000000001</td><td>1295.235375598073</td></tr>\n",
       "<tr><td>0.08</td><td>0.09</td><td>0.08499999999999999</td><td>498.1127526173368</td></tr>\n",
       "<tr><td>0.09</td><td>0.1</td><td>0.095</td><td>271.48396642366424</td></tr>\n",
       "</table>"
      ],
      "text/plain": [
       "<Table length=10>\n",
       " x_min   x_max         x_ref             profile      \n",
       "  deg     deg           deg                           \n",
       "float64 float64       float64            float64      \n",
       "------- ------- ------------------- ------------------\n",
       "    0.0    0.01               0.005 35.369256674312055\n",
       "   0.01    0.02               0.015 280.37111206911504\n",
       "   0.02    0.03               0.025   684.626974386163\n",
       "   0.03    0.04               0.035  533.3917473750189\n",
       "   0.04    0.05               0.045 1023.8221172792837\n",
       "   0.05    0.06               0.055   975.829424995929\n",
       "   0.06    0.07               0.065 1039.9760806690902\n",
       "   0.07    0.08 0.07500000000000001  1295.235375598073\n",
       "   0.08    0.09 0.08499999999999999  498.1127526173368\n",
       "   0.09     0.1               0.095 271.48396642366424"
      ]
     },
     "execution_count": 489,
     "metadata": {},
     "output_type": "execute_result"
    }
   ],
   "source": [
    "profile.table"
   ]
  },
  {
   "cell_type": "code",
   "execution_count": 490,
   "metadata": {},
   "outputs": [],
   "source": [
    "index3 = np.where(profile.table['profile']>0)\n",
    "dr3 = (profile.table['x_max']-profile.table['x_min'])[index3]\n",
    "x3 = profile.table['x_ref'][index3]\n",
    "y3 = profile.table['profile'][index3]#*2*np.pi*x3*dr3\n",
    "yerr3 = y3**0.5"
   ]
  },
  {
   "cell_type": "code",
   "execution_count": 492,
   "metadata": {},
   "outputs": [
    {
     "data": {
      "text/plain": [
       "[<matplotlib.lines.Line2D at 0x12ceccf98>]"
      ]
     },
     "execution_count": 492,
     "metadata": {},
     "output_type": "execute_result"
    },
    {
     "data": {
      "image/png": "[encoded data removed]",
      "text/plain": [
       "<Figure size 432x288 with 1 Axes>"
      ]
     },
     "metadata": {
      "needs_background": "light"
     },
     "output_type": "display_data"
    }
   ],
   "source": [
    "#compare the npred profile with the simulated events\n",
    "plt.plot(x3, y3)\n",
    "plt.plot(x2, y2)\n"
   ]
  },
  {
   "cell_type": "code",
   "execution_count": null,
   "metadata": {},
   "outputs": [],
   "source": []
  }
 ],
 "metadata": {
  "kernelspec": {
   "display_name": "Python 3",
   "language": "python",
   "name": "python3"
  },
  "language_info": {
   "codemirror_mode": {
    "name": "ipython",
    "version": 3
   },
   "file_extension": ".py",
   "mimetype": "text/x-python",
   "name": "python",
   "nbconvert_exporter": "python",
   "pygments_lexer": "ipython3",
   "version": "3.7.0"
  }
 },
 "nbformat": 4,
 "nbformat_minor": 4
}
