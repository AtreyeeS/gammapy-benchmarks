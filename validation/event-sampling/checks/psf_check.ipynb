{
 "cells": [
  {
   "cell_type": "markdown",
   "metadata": {},
   "source": [
    "# PSF Check"
   ]
  },
  {
   "cell_type": "code",
   "execution_count": 1,
   "metadata": {},
   "outputs": [],
   "source": [
    "from gammapy.cube import PSFMap\n",
    "from gammapy.irf import EnergyDependentTablePSF"
   ]
  },
  {
   "cell_type": "code",
   "execution_count": 2,
   "metadata": {},
   "outputs": [],
   "source": [
    "from pathlib import Path\n",
    "\n",
    "from astropy.coordinates import SkyCoord\n",
    "from gammapy.maps import WcsGeom\n",
    "from gammapy.modeling.models import (\n",
    "    Models,\n",
    "    PointSpatialModel,\n",
    "    PowerLawSpectralModel,\n",
    "    SkyModel,\n",
    ")\n",
    "from gammapy.data import GTI, Observation, EventList\n",
    "from gammapy.maps import MapAxis, WcsGeom, Map, MapCoord\n",
    "from gammapy.maps.profile import ImageProfile, ImageProfileEstimator\n",
    "from gammapy.irf import EnergyDispersion2D, PSF3D, EnergyDependentMultiGaussPSF, load_cta_irfs\n",
    "\n",
    "from gammapy.cube import (\n",
    "    MapDataset,\n",
    "    MapDatasetEventSampler,\n",
    "    MapDatasetMaker,\n",
    ")\n"
   ]
  },
  {
   "cell_type": "code",
   "execution_count": 3,
   "metadata": {},
   "outputs": [],
   "source": [
    "import numpy as np\n",
    "from scipy.stats import norm\n",
    "from scipy.optimize import curve_fit\n",
    "import matplotlib.pyplot as plt\n",
    "import astropy.units as u\n"
   ]
  },
  {
   "cell_type": "code",
   "execution_count": 4,
   "metadata": {},
   "outputs": [],
   "source": [
    "def get_filename_dataset(livetime):\n",
    "    filename = f\"data/dataset_{livetime.value:.0f}{livetime.unit}.fits.gz\"\n",
    "    return BASE_PATH / filename\n",
    "\n",
    "\n",
    "def get_filename_events(filename_dataset, filename_model, obs_id):\n",
    "    obs_id=int(obs_id)\n",
    "    model_str = filename_model.name.replace(filename_model.suffix, \"\")\n",
    "    filename_events = filename_dataset.name.replace(\"dataset\", \"events\")\n",
    "    filename_events = BASE_PATH / f\"data/models/{model_str}/\" / filename_events\n",
    "    filename_events = filename_events.name.replace(\".fits.gz\", f\"_{obs_id:04d}.fits.gz\")\n",
    "    path = BASE_PATH / f\"data/models/{model_str}/\" / filename_events\n",
    "    return path\n"
   ]
  },
  {
   "cell_type": "code",
   "execution_count": 5,
   "metadata": {},
   "outputs": [],
   "source": [
    "def gaussian(x, amp, wid, cen):\n",
    "    return amp * np.exp(-(x-cen)**2 / (2*wid**2.))\n"
   ]
  },
  {
   "cell_type": "code",
   "execution_count": 6,
   "metadata": {},
   "outputs": [],
   "source": [
    "BASE_PATH = Path(\"../make.py\").parent"
   ]
  },
  {
   "cell_type": "code",
   "execution_count": 7,
   "metadata": {},
   "outputs": [],
   "source": [
    "model = \"point-pwlsimple\"\n",
    "filename_model = BASE_PATH / f\"models/{model}.yaml\"\n"
   ]
  },
  {
   "cell_type": "code",
   "execution_count": 8,
   "metadata": {},
   "outputs": [],
   "source": [
    "IRF_FILE = \"$GAMMAPY_DATA/cta-1dc/caldb/data/cta/1dc/bcf/South_z20_50h/irf_file.fits\"\n",
    "POINTING = SkyCoord(0.0, 0.0, frame=\"galactic\", unit=\"deg\")\n",
    "LIVETIME = 10 * u.hr\n",
    "GTI_TABLE = GTI.create(start=0 * u.s, stop=LIVETIME.to(u.s))\n",
    "\n",
    "# dataset config\n",
    "ENERGY_AXIS = MapAxis.from_energy_bounds(\"0.1 TeV\", \"100 TeV\", nbin=10, per_decade=True)\n",
    "ENERGY_AXIS_TRUE = MapAxis.from_energy_bounds(\"0.03 TeV\", \"300 TeV\", nbin=20, per_decade=True)\n",
    "MIGRA_AXIS = MapAxis.from_bounds(0.5, 2, nbin=150, node_type=\"edges\", name=\"migra\")\n",
    "\n",
    "WCS_GEOM = WcsGeom.create(\n",
    "    skydir=POINTING, width=(4, 4), binsz=0.01, frame=\"galactic\", axes=[ENERGY_AXIS]\n",
    ")\n"
   ]
  },
  {
   "cell_type": "markdown",
   "metadata": {},
   "source": [
    "### Create the dataset"
   ]
  },
  {
   "cell_type": "code",
   "execution_count": 9,
   "metadata": {},
   "outputs": [
    {
     "name": "stderr",
     "output_type": "stream",
     "text": [
      "WARNING: AstropyDeprecationWarning: The truth value of a Quantity is ambiguous. In the future this will raise a ValueError. [astropy.units.quantity]\n"
     ]
    }
   ],
   "source": [
    "irfs = load_cta_irfs(IRF_FILE)\n",
    "\n",
    "observation = Observation.create(\n",
    "                                 obs_id=1001, pointing=POINTING, livetime=LIVETIME, irfs=irfs\n",
    "                                 )\n",
    "\n",
    "empty = MapDataset.create(WCS_GEOM, energy_axis_true=ENERGY_AXIS_TRUE, migra_axis=MIGRA_AXIS)\n",
    "#    maker = MapDatasetMaker(selection=[\"exposure\", \"edisp\"])\n",
    "#    maker = MapDatasetMaker(selection=[\"exposure\", \"edisp\", \"background\"])\n",
    "maker = MapDatasetMaker(selection=[\"exposure\"])\n",
    "dataset = maker.run(empty, observation)"
   ]
  },
  {
   "cell_type": "code",
   "execution_count": 10,
   "metadata": {},
   "outputs": [],
   "source": [
    "# print(dataset.models)\n",
    "# a=dataset.npred()\n",
    "# a.plot_interactive()"
   ]
  },
  {
   "cell_type": "code",
   "execution_count": 11,
   "metadata": {},
   "outputs": [],
   "source": [
    "models = Models.read(filename_model)\n",
    "dataset.models = models"
   ]
  },
  {
   "cell_type": "code",
   "execution_count": 12,
   "metadata": {},
   "outputs": [
    {
     "name": "stdout",
     "output_type": "stream",
     "text": [
      "Models\n",
      "\n",
      "Component 0: SkyModel\n",
      "\n",
      "   name     value   error      unit         min        max    frozen\n",
      "--------- --------- ----- -------------- ---------- --------- ------\n",
      "    lon_0 0.000e+00   nan            deg        nan       nan  False\n",
      "    lat_0 0.000e+00   nan            deg -9.000e+01 9.000e+01  False\n",
      "    index 2.000e+00   nan                       nan       nan  False\n",
      "amplitude 1.000e-12   nan cm-2 s-1 TeV-1        nan       nan  False\n",
      "reference 1.000e+00   nan            TeV        nan       nan   True\n",
      "\n",
      "\t\n",
      "\n",
      "\n"
     ]
    }
   ],
   "source": [
    "print(models)\n",
    "# print(dataset.npred())"
   ]
  },
  {
   "cell_type": "markdown",
   "metadata": {},
   "source": [
    "### Simulate the events"
   ]
  },
  {
   "cell_type": "code",
   "execution_count": 13,
   "metadata": {},
   "outputs": [],
   "source": [
    "sampler = MapDatasetEventSampler(random_state=0)\n",
    "observation = Observation.create(\n",
    "    obs_id=1001, pointing=POINTING, livetime=LIVETIME, irfs=irfs\n",
    ")\n",
    "\n",
    "events = sampler.run(dataset, observation)"
   ]
  },
  {
   "cell_type": "code",
   "execution_count": 14,
   "metadata": {},
   "outputs": [],
   "source": [
    "# events.table"
   ]
  },
  {
   "cell_type": "code",
   "execution_count": 15,
   "metadata": {},
   "outputs": [
    {
     "data": {
      "text/plain": [
       "<matplotlib.colorbar.Colorbar at 0x115c84550>"
      ]
     },
     "execution_count": 15,
     "metadata": {},
     "output_type": "execute_result"
    },
    {
     "data": {
      "image/png": "[encoded data removed]",
      "text/plain": [
       "<Figure size 432x288 with 2 Axes>"
      ]
     },
     "metadata": {
      "needs_background": "light"
     },
     "output_type": "display_data"
    }
   ],
   "source": [
    "plt.hist2d(events.table['RA_TRUE'],events.table['DEC_TRUE'], bins=2, cmap=plt.cm.YlOrRd)\n",
    "plt.colorbar()"
   ]
  },
  {
   "cell_type": "markdown",
   "metadata": {},
   "source": [
    "### Pointlike source distribution"
   ]
  },
  {
   "cell_type": "code",
   "execution_count": 16,
   "metadata": {},
   "outputs": [
    {
     "data": {
      "text/plain": [
       "<matplotlib.axes._subplots.WCSAxesSubplot at 0x11c8fccc0>"
      ]
     },
     "execution_count": 16,
     "metadata": {},
     "output_type": "execute_result"
    },
    {
     "data": {
      "image/png": "[encoded data removed]",
      "text/plain": [
       "<Figure size 432x288 with 2 Axes>"
      ]
     },
     "metadata": {
      "needs_background": "light"
     },
     "output_type": "display_data"
    }
   ],
   "source": [
    "model = PointSpatialModel(lon_0=\"0.01deg\", lat_0=\"0.01deg\", frame=\"galactic\",)\n",
    "\n",
    "geom = WcsGeom.create(\n",
    "    skydir=SkyCoord(\"0.0d 0.0d\", frame=\"galactic\"), width=(1, 1), binsz=0.1\n",
    ")\n",
    "model.plot(geom=geom, add_cbar=True)"
   ]
  },
  {
   "cell_type": "markdown",
   "metadata": {},
   "source": [
    "### PSF test"
   ]
  },
  {
   "cell_type": "markdown",
   "metadata": {},
   "source": [
    "##### Create a fake PSF"
   ]
  },
  {
   "cell_type": "code",
   "execution_count": 17,
   "metadata": {},
   "outputs": [],
   "source": [
    "psf_gauss = EnergyDependentMultiGaussPSF.read(filename=IRF_FILE, hdu=\"POINT SPREAD FUNCTION\")\n",
    "# psf_gauss = EnergyDependentMultiGaussPSF(energy_lo=0.01*u.TeV, energy_hi=200*u.TeV, \n",
    "#                                          theta=[0, 2, 4, 6, 8] * u.deg, sigmas=[[0.1,0.1,0.1]]*u.deg,\n",
    "#                                         norms=[1,1,1])"
   ]
  },
  {
   "cell_type": "code",
   "execution_count": 18,
   "metadata": {},
   "outputs": [],
   "source": [
    "psf_gauss.sigmas[0] = (psf_gauss.sigmas[0] / psf_gauss.sigmas[0]) * 0.1"
   ]
  },
  {
   "cell_type": "code",
   "execution_count": 19,
   "metadata": {},
   "outputs": [
    {
     "name": "stderr",
     "output_type": "stream",
     "text": [
      "/anaconda2/envs/gammapy-dev/lib/python3.7/site-packages/ipykernel_launcher.py:2: RuntimeWarning: invalid value encountered in true_divide\n",
      "  \n"
     ]
    }
   ],
   "source": [
    "psf_gauss.norms[0] = np.where((psf_gauss.norms[0] != 0), \n",
    "                              ((psf_gauss.norms[0]/psf_gauss.norms[0]) * 1/(2*np.pi*0.1**2.)),\n",
    "                             psf_gauss.norms[0])"
   ]
  },
  {
   "cell_type": "code",
   "execution_count": 20,
   "metadata": {},
   "outputs": [],
   "source": [
    "psf_3d = psf_gauss.to_psf3d(rad=np.linspace(0, 1, 100) * u.deg)"
   ]
  },
  {
   "cell_type": "markdown",
   "metadata": {},
   "source": [
    "##### Create the dataset"
   ]
  },
  {
   "cell_type": "code",
   "execution_count": 21,
   "metadata": {},
   "outputs": [
    {
     "name": "stderr",
     "output_type": "stream",
     "text": [
      "WARNING: AstropyDeprecationWarning: The truth value of a Quantity is ambiguous. In the future this will raise a ValueError. [astropy.units.quantity]\n"
     ]
    }
   ],
   "source": [
    "irfs = load_cta_irfs(IRF_FILE)\n",
    "\n",
    "irfs['psf'] = psf_3d\n",
    "\n",
    "observation = Observation.create(\n",
    "                                 obs_id=1001, pointing=POINTING, livetime=LIVETIME, irfs=irfs\n",
    "                                 )\n",
    "\n",
    "empty = MapDataset.create(WCS_GEOM, energy_axis_true=ENERGY_AXIS_TRUE, migra_axis=MIGRA_AXIS)\n",
    "#    maker = MapDatasetMaker(selection=[\"exposure\", \"edisp\"])\n",
    "#    maker = MapDatasetMaker(selection=[\"exposure\", \"edisp\", \"background\"])\n",
    "maker = MapDatasetMaker(selection=[\"exposure\", \"psf\"])\n",
    "dataset = maker.run(empty, observation)"
   ]
  },
  {
   "cell_type": "markdown",
   "metadata": {},
   "source": [
    "##### Simulate the events"
   ]
  },
  {
   "cell_type": "code",
   "execution_count": 23,
   "metadata": {},
   "outputs": [],
   "source": [
    "models = Models.read(filename_model)\n",
    "dataset.models = models\n",
    "sampler = MapDatasetEventSampler(random_state=0)\n",
    "observation = Observation.create(\n",
    "    obs_id=1001, pointing=POINTING, livetime=LIVETIME, irfs=irfs\n",
    ")\n",
    "\n",
    "events = sampler.run(dataset, observation)"
   ]
  },
  {
   "cell_type": "code",
   "execution_count": 24,
   "metadata": {},
   "outputs": [
    {
     "data": {
      "text/plain": [
       "(<Figure size 432x288 with 2 Axes>,\n",
       " <matplotlib.axes._subplots.WCSAxesSubplot at 0x1041325f8>,\n",
       " <matplotlib.colorbar.Colorbar at 0x11627cbe0>)"
      ]
     },
     "execution_count": 24,
     "metadata": {},
     "output_type": "execute_result"
    },
    {
     "data": {
      "image/png": "[encoded data removed]",
      "text/plain": [
       "<Figure size 432x288 with 2 Axes>"
      ]
     },
     "metadata": {
      "needs_background": "light"
     },
     "output_type": "display_data"
    }
   ],
   "source": [
    "counts = Map.create(frame=\"galactic\", skydir=(0, 0.), binsz=0.01, npix=(100, 100))\n",
    "counts.fill_events(events)\n",
    "counts.plot(add_cbar=True)"
   ]
  },
  {
   "cell_type": "code",
   "execution_count": 25,
   "metadata": {},
   "outputs": [],
   "source": [
    "p = ImageProfileEstimator(axis='lon', method='sum')\n",
    "profile = p.run(counts)"
   ]
  },
  {
   "cell_type": "code",
   "execution_count": 26,
   "metadata": {},
   "outputs": [],
   "source": [
    "# gaussian(profile.table['x_ref'])\n",
    "y = np.where(profile.table['profile']<=0, 1, profile.table['profile'])"
   ]
  },
  {
   "cell_type": "code",
   "execution_count": 27,
   "metadata": {},
   "outputs": [],
   "source": [
    "# profile.table"
   ]
  },
  {
   "cell_type": "code",
   "execution_count": 28,
   "metadata": {},
   "outputs": [],
   "source": [
    "init_vals = [800, 0.1, 0.0]"
   ]
  },
  {
   "cell_type": "code",
   "execution_count": 29,
   "metadata": {},
   "outputs": [
    {
     "name": "stdout",
     "output_type": "stream",
     "text": [
      "############\n",
      "This is the normalization: 242.76955863349406\n",
      "This is the sigma: 0.03064977267290675\n",
      "This is the center: -5.7584381821973295e-06\n",
      "############\n"
     ]
    }
   ],
   "source": [
    "best_vals, covar = curve_fit(gaussian, profile.table['x_ref'], y, \n",
    "                             p0=init_vals, sigma=y**0.5)\n",
    "\n",
    "print(\"############\")\n",
    "print(f\"This is the normalization: {best_vals[0]}\")\n",
    "print(f\"This is the sigma: {best_vals[1]}\")\n",
    "print(f\"This is the center: {best_vals[2]}\")\n",
    "print(\"############\")"
   ]
  },
  {
   "cell_type": "code",
   "execution_count": 30,
   "metadata": {},
   "outputs": [
    {
     "data": {
      "image/png": "[encoded data removed]",
      "text/plain": [
       "<Figure size 432x288 with 1 Axes>"
      ]
     },
     "metadata": {
      "needs_background": "light"
     },
     "output_type": "display_data"
    }
   ],
   "source": [
    "# smoothed = profile.smooth(kernel='gauss')\n",
    "# smoothed.peek()\n",
    "plt.errorbar(profile.table['x_ref'], y, yerr=y**0.5)\n",
    "plt.plot(profile.table['x_ref'], gaussian(profile.table['x_ref'],*best_vals))\n",
    "plt.show()"
   ]
  },
  {
   "cell_type": "code",
   "execution_count": null,
   "metadata": {},
   "outputs": [],
   "source": []
  },
  {
   "cell_type": "code",
   "execution_count": null,
   "metadata": {},
   "outputs": [],
   "source": []
  },
  {
   "cell_type": "markdown",
   "metadata": {},
   "source": [
    "#### Comparing 1D histogram of the point-like model and simulated events"
   ]
  },
  {
   "cell_type": "code",
   "execution_count": 31,
   "metadata": {},
   "outputs": [],
   "source": [
    "src_pos = SkyCoord(0.0*u.deg, 0.0*u.deg, frame='galactic')\n",
    "evt_pos = SkyCoord(events.table['RA_TRUE'], events.table['DEC_TRUE'], frame='icrs')\n",
    "sep = src_pos.separation(evt_pos).value"
   ]
  },
  {
   "cell_type": "code",
   "execution_count": 32,
   "metadata": {},
   "outputs": [],
   "source": [
    "# c = MapCoord.create(evt_pos)\n",
    "# print(c)"
   ]
  },
  {
   "cell_type": "code",
   "execution_count": 33,
   "metadata": {},
   "outputs": [
    {
     "data": {
      "text/plain": [
       "(array([ 46., 109., 184., 256., 335., 387., 400., 309., 156.,  50.]),\n",
       " array([5.50861784e-05, 1.45020155e-03, 2.84531692e-03, 4.24043229e-03,\n",
       "        5.63554767e-03, 7.03066304e-03, 8.42577841e-03, 9.82089378e-03,\n",
       "        1.12160092e-02, 1.26111245e-02, 1.40062399e-02]),\n",
       " <a list of 10 Patch objects>)"
      ]
     },
     "execution_count": 33,
     "metadata": {},
     "output_type": "execute_result"
    },
    {
     "data": {
      "image/png": "[encoded data removed]",
      "text/plain": [
       "<Figure size 432x288 with 1 Axes>"
      ]
     },
     "metadata": {
      "needs_background": "light"
     },
     "output_type": "display_data"
    }
   ],
   "source": [
    "plt.hist(sep)"
   ]
  },
  {
   "cell_type": "code",
   "execution_count": 39,
   "metadata": {},
   "outputs": [],
   "source": [
    "model = PointSpatialModel(lon_0=\"0.0deg\", lat_0=\"0.0 deg\", frame=\"galactic\",)\n",
    "\n",
    "bins=0.002\n",
    "width=0.1\n",
    "geom = WcsGeom.create(\n",
    "    skydir=SkyCoord(\"0d 0d\", frame=\"galactic\"), width=(width, width), binsz=bins\n",
    ")\n",
    "# model.plot(geom=geom, add_cbar=True)"
   ]
  },
  {
   "cell_type": "code",
   "execution_count": 40,
   "metadata": {},
   "outputs": [],
   "source": [
    "pnt_pos = geom.get_coord().skycoord"
   ]
  },
  {
   "cell_type": "code",
   "execution_count": 41,
   "metadata": {},
   "outputs": [],
   "source": [
    "pnt_pos = np.reshape(pnt_pos, (1,int(width/bins)**2))[0]"
   ]
  },
  {
   "cell_type": "code",
   "execution_count": 42,
   "metadata": {},
   "outputs": [],
   "source": [
    "pnt_sep = src_pos.separation(pnt_pos).value"
   ]
  },
  {
   "cell_type": "code",
   "execution_count": 43,
   "metadata": {},
   "outputs": [
    {
     "data": {
      "text/plain": [
       "(array([ 52., 120., 204., 264., 328., 428., 480., 372., 184.,  68.]),\n",
       " array([0.00141421, 0.00820244, 0.01499066, 0.02177889, 0.02856711,\n",
       "        0.03535534, 0.04214356, 0.04893179, 0.05572001, 0.06250824,\n",
       "        0.06929646]),\n",
       " <a list of 10 Patch objects>)"
      ]
     },
     "execution_count": 43,
     "metadata": {},
     "output_type": "execute_result"
    },
    {
     "data": {
      "image/png": "[encoded data removed]",
      "text/plain": [
       "<Figure size 432x288 with 1 Axes>"
      ]
     },
     "metadata": {
      "needs_background": "light"
     },
     "output_type": "display_data"
    }
   ],
   "source": [
    "plt.hist(pnt_sep, bins=10)"
   ]
  },
  {
   "cell_type": "code",
   "execution_count": 44,
   "metadata": {},
   "outputs": [
    {
     "data": {
      "text/plain": [
       "(array([ 46., 109., 184., 256., 335., 387., 400., 309., 156.,  50.]),\n",
       " array([5.50861784e-05, 1.45020155e-03, 2.84531692e-03, 4.24043229e-03,\n",
       "        5.63554767e-03, 7.03066304e-03, 8.42577841e-03, 9.82089378e-03,\n",
       "        1.12160092e-02, 1.26111245e-02, 1.40062399e-02]),\n",
       " <a list of 10 Patch objects>)"
      ]
     },
     "execution_count": 44,
     "metadata": {},
     "output_type": "execute_result"
    },
    {
     "data": {
      "image/png": "[encoded data removed]",
      "text/plain": [
       "<Figure size 432x288 with 1 Axes>"
      ]
     },
     "metadata": {
      "needs_background": "light"
     },
     "output_type": "display_data"
    }
   ],
   "source": [
    "plt.hist(pnt_sep)\n",
    "plt.hist(sep)"
   ]
  },
  {
   "cell_type": "code",
   "execution_count": null,
   "metadata": {},
   "outputs": [],
   "source": []
  },
  {
   "cell_type": "code",
   "execution_count": null,
   "metadata": {},
   "outputs": [],
   "source": []
  }
 ],
 "metadata": {
  "kernelspec": {
   "display_name": "Python 3",
   "language": "python",
   "name": "python3"
  },
  "language_info": {
   "codemirror_mode": {
    "name": "ipython",
    "version": 3
   },
   "file_extension": ".py",
   "mimetype": "text/x-python",
   "name": "python",
   "nbconvert_exporter": "python",
   "pygments_lexer": "ipython3",
   "version": "3.7.0"
  }
 },
 "nbformat": 4,
 "nbformat_minor": 4
}
