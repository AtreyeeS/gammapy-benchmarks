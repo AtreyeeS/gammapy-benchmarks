{
 "cells": [
  {
   "cell_type": "markdown",
   "metadata": {},
   "source": [
    "# PSF Check"
   ]
  },
  {
   "cell_type": "code",
   "execution_count": 1,
   "metadata": {},
   "outputs": [],
   "source": [
    "from gammapy.cube import PSFMap\n",
    "from gammapy.irf import EnergyDependentTablePSF"
   ]
  },
  {
   "cell_type": "code",
   "execution_count": 147,
   "metadata": {},
   "outputs": [],
   "source": [
    "from pathlib import Path\n",
    "\n",
    "from astropy.coordinates import SkyCoord\n",
    "from gammapy.maps import WcsGeom\n",
    "from gammapy.modeling.models import (\n",
    "    Models,\n",
    "    PointSpatialModel,\n",
    "    PowerLawSpectralModel,\n",
    "    SkyModel,\n",
    ")\n",
    "from gammapy.data import GTI, Observation, EventList\n",
    "from gammapy.maps import MapAxis, WcsGeom, Map\n",
    "from gammapy.irf import EnergyDispersion2D, PSF3D, EnergyDependentMultiGaussPSF, load_cta_irfs\n",
    "\n",
    "from gammapy.cube import (\n",
    "    MapDataset,\n",
    "    MapDatasetEventSampler,\n",
    "    MapDatasetMaker,\n",
    ")\n"
   ]
  },
  {
   "cell_type": "code",
   "execution_count": 3,
   "metadata": {},
   "outputs": [],
   "source": [
    "import numpy as np\n",
    "from scipy.stats import norm\n",
    "import matplotlib.pyplot as plt\n",
    "import astropy.units as u\n"
   ]
  },
  {
   "cell_type": "code",
   "execution_count": 4,
   "metadata": {},
   "outputs": [],
   "source": [
    "def get_filename_dataset(livetime):\n",
    "    filename = f\"data/dataset_{livetime.value:.0f}{livetime.unit}.fits.gz\"\n",
    "    return BASE_PATH / filename\n",
    "\n",
    "\n",
    "def get_filename_events(filename_dataset, filename_model, obs_id):\n",
    "    obs_id=int(obs_id)\n",
    "    model_str = filename_model.name.replace(filename_model.suffix, \"\")\n",
    "    filename_events = filename_dataset.name.replace(\"dataset\", \"events\")\n",
    "    filename_events = BASE_PATH / f\"data/models/{model_str}/\" / filename_events\n",
    "    filename_events = filename_events.name.replace(\".fits.gz\", f\"_{obs_id:04d}.fits.gz\")\n",
    "    path = BASE_PATH / f\"data/models/{model_str}/\" / filename_events\n",
    "    return path\n"
   ]
  },
  {
   "cell_type": "code",
   "execution_count": 5,
   "metadata": {},
   "outputs": [],
   "source": [
    "BASE_PATH = Path(\"../make.py\").parent"
   ]
  },
  {
   "cell_type": "code",
   "execution_count": 6,
   "metadata": {},
   "outputs": [],
   "source": [
    "model = \"point-pwlsimple\"\n",
    "filename_model = BASE_PATH / f\"models/{model}.yaml\"\n"
   ]
  },
  {
   "cell_type": "code",
   "execution_count": 7,
   "metadata": {},
   "outputs": [],
   "source": [
    "IRF_FILE = \"$GAMMAPY_DATA/cta-1dc/caldb/data/cta/1dc/bcf/South_z20_50h/irf_file.fits\"\n",
    "POINTING = SkyCoord(0.0, 0.5, frame=\"galactic\", unit=\"deg\")\n",
    "LIVETIME = 10 * u.hr\n",
    "GTI_TABLE = GTI.create(start=0 * u.s, stop=LIVETIME.to(u.s))\n",
    "\n",
    "# dataset config\n",
    "ENERGY_AXIS = MapAxis.from_energy_bounds(\"0.1 TeV\", \"100 TeV\", nbin=10, per_decade=True)\n",
    "ENERGY_AXIS_TRUE = MapAxis.from_energy_bounds(\"0.03 TeV\", \"300 TeV\", nbin=20, per_decade=True)\n",
    "MIGRA_AXIS = MapAxis.from_bounds(0.5, 2, nbin=150, node_type=\"edges\", name=\"migra\")\n",
    "\n",
    "WCS_GEOM = WcsGeom.create(\n",
    "    skydir=POINTING, width=(4, 4), binsz=0.02, frame=\"galactic\", axes=[ENERGY_AXIS]\n",
    ")\n"
   ]
  },
  {
   "cell_type": "markdown",
   "metadata": {},
   "source": [
    "### Create the dataset"
   ]
  },
  {
   "cell_type": "code",
   "execution_count": 32,
   "metadata": {},
   "outputs": [
    {
     "name": "stderr",
     "output_type": "stream",
     "text": [
      "WARNING: AstropyDeprecationWarning: The truth value of a Quantity is ambiguous. In the future this will raise a ValueError. [astropy.units.quantity]\n"
     ]
    }
   ],
   "source": [
    "irfs = load_cta_irfs(IRF_FILE)\n",
    "\n",
    "observation = Observation.create(\n",
    "                                 obs_id=1001, pointing=POINTING, livetime=LIVETIME, irfs=irfs\n",
    "                                 )\n",
    "\n",
    "empty = MapDataset.create(WCS_GEOM, energy_axis_true=ENERGY_AXIS_TRUE, migra_axis=MIGRA_AXIS)\n",
    "#    maker = MapDatasetMaker(selection=[\"exposure\", \"edisp\"])\n",
    "#    maker = MapDatasetMaker(selection=[\"exposure\", \"edisp\", \"background\"])\n",
    "maker = MapDatasetMaker(selection=[\"exposure\"])\n",
    "dataset = maker.run(empty, observation)\n"
   ]
  },
  {
   "cell_type": "code",
   "execution_count": 33,
   "metadata": {},
   "outputs": [
    {
     "name": "stdout",
     "output_type": "stream",
     "text": [
      "None\n"
     ]
    }
   ],
   "source": [
    "print(dataset.models)"
   ]
  },
  {
   "cell_type": "code",
   "execution_count": 34,
   "metadata": {},
   "outputs": [],
   "source": [
    "a=dataset.npred()"
   ]
  },
  {
   "cell_type": "code",
   "execution_count": 35,
   "metadata": {},
   "outputs": [
    {
     "name": "stderr",
     "output_type": "stream",
     "text": [
      "/anaconda2/envs/gammapy-dev/lib/python3.7/site-packages/astropy/visualization/mpl_normalize.py:127: RuntimeWarning: invalid value encountered in true_divide\n",
      "  np.true_divide(values, self.vmax - self.vmin, out=values)\n",
      "/anaconda2/envs/gammapy-dev/lib/python3.7/site-packages/matplotlib/colors.py:527: RuntimeWarning: invalid value encountered in less\n",
      "  xa[xa < 0] = -1\n",
      "/anaconda2/envs/gammapy-dev/lib/python3.7/site-packages/astropy/visualization/mpl_normalize.py:127: RuntimeWarning: invalid value encountered in true_divide\n",
      "  np.true_divide(values, self.vmax - self.vmin, out=values)\n",
      "/anaconda2/envs/gammapy-dev/lib/python3.7/site-packages/matplotlib/colors.py:527: RuntimeWarning: invalid value encountered in less\n",
      "  xa[xa < 0] = -1\n"
     ]
    },
    {
     "data": {
      "image/png": "[encoded data removed]",
      "text/plain": [
       "<Figure size 432x288 with 1 Axes>"
      ]
     },
     "metadata": {
      "needs_background": "light"
     },
     "output_type": "display_data"
    }
   ],
   "source": [
    "a.plot_interactive()"
   ]
  },
  {
   "cell_type": "code",
   "execution_count": 36,
   "metadata": {},
   "outputs": [],
   "source": [
    "models = Models.read(filename_model)"
   ]
  },
  {
   "cell_type": "code",
   "execution_count": 37,
   "metadata": {},
   "outputs": [
    {
     "name": "stdout",
     "output_type": "stream",
     "text": [
      "Models\n",
      "\n",
      "Component 0: SkyModel\n",
      "\n",
      "   name     value   error      unit         min        max    frozen\n",
      "--------- --------- ----- -------------- ---------- --------- ------\n",
      "    lon_0 0.000e+00   nan            deg        nan       nan  False\n",
      "    lat_0 0.000e+00   nan            deg -9.000e+01 9.000e+01  False\n",
      "    index 2.000e+00   nan                       nan       nan  False\n",
      "amplitude 1.000e-12   nan cm-2 s-1 TeV-1        nan       nan  False\n",
      "reference 1.000e+00   nan            TeV        nan       nan   True\n",
      "\n",
      "\t\n",
      "\n",
      "\n"
     ]
    }
   ],
   "source": [
    "print(models)"
   ]
  },
  {
   "cell_type": "code",
   "execution_count": 38,
   "metadata": {},
   "outputs": [],
   "source": [
    "dataset.models = models"
   ]
  },
  {
   "cell_type": "code",
   "execution_count": 39,
   "metadata": {},
   "outputs": [],
   "source": [
    "# print(dataset.npred())"
   ]
  },
  {
   "cell_type": "code",
   "execution_count": 40,
   "metadata": {},
   "outputs": [
    {
     "name": "stderr",
     "output_type": "stream",
     "text": [
      "WARNING: AstropyDeprecationWarning: The truth value of a Quantity is ambiguous. In the future this will raise a ValueError. [astropy.units.quantity]\n"
     ]
    }
   ],
   "source": [
    "sampler = MapDatasetEventSampler(random_state=0)\n",
    "observation = Observation.create(\n",
    "    obs_id=1001, pointing=POINTING, livetime=LIVETIME, irfs=irfs\n",
    ")\n",
    "\n",
    "events = sampler.run(dataset, observation)\n"
   ]
  },
  {
   "cell_type": "code",
   "execution_count": 41,
   "metadata": {},
   "outputs": [
    {
     "data": {
      "text/html": [
       "<i>Table length=2128</i>\n",
       "<table id=\"table4894066952\" class=\"table-striped table-bordered table-condensed\">\n",
       "<thead><tr><th>ENERGY_TRUE</th><th>RA_TRUE</th><th>DEC_TRUE</th><th>TIME</th><th>MC_ID</th><th>RA</th><th>DEC</th><th>ENERGY</th><th>EVENT_ID</th></tr></thead>\n",
       "<thead><tr><th>TeV</th><th>deg</th><th>deg</th><th>s</th><th></th><th>deg</th><th>deg</th><th>TeV</th><th></th></tr></thead>\n",
       "<thead><tr><th>float64</th><th>float64</th><th>float64</th><th>float64</th><th>int64</th><th>float64</th><th>float64</th><th>float64</th><th>int64</th></tr></thead>\n",
       "<tr><td>0.4810854600091019</td><td>266.3864001019041</td><td>-28.937224624952275</td><td>10495.205614948645</td><td>1</td><td>266.3864001019041</td><td>-28.937224624952275</td><td>0.4810854600091019</td><td>0</td></tr>\n",
       "<tr><td>0.07353832387408077</td><td>266.39549386129556</td><td>-28.91877821800499</td><td>22614.145982195623</td><td>1</td><td>266.39549386129556</td><td>-28.91877821800499</td><td>0.07353832387408077</td><td>1</td></tr>\n",
       "<tr><td>2.3042256215233072</td><td>266.4002010372554</td><td>-28.953632706869026</td><td>25716.66746553965</td><td>1</td><td>266.4002010372554</td><td>-28.953632706869026</td><td>2.3042256215233072</td><td>2</td></tr>\n",
       "<tr><td>0.47121276266498574</td><td>266.3840622149844</td><td>-28.93564158259355</td><td>9813.168279477395</td><td>1</td><td>266.3840622149844</td><td>-28.93564158259355</td><td>0.47121276266498574</td><td>3</td></tr>\n",
       "<tr><td>1.9408190047954321</td><td>266.38152775664753</td><td>-28.94539147274147</td><td>4199.0702567389235</td><td>1</td><td>266.38152775664753</td><td>-28.94539147274147</td><td>1.9408190047954321</td><td>4</td></tr>\n",
       "<tr><td>0.2414723853341287</td><td>266.413392364421</td><td>-28.931775503229478</td><td>18370.984217477962</td><td>1</td><td>266.413392364421</td><td>-28.931775503229478</td><td>0.2414723853341287</td><td>5</td></tr>\n",
       "<tr><td>0.1634274035969091</td><td>266.38624148748943</td><td>-28.928162212551868</td><td>10187.255415692925</td><td>1</td><td>266.38624148748943</td><td>-28.928162212551868</td><td>0.1634274035969091</td><td>6</td></tr>\n",
       "<tr><td>0.9711605822550461</td><td>266.3984456128507</td><td>-28.910843348961237</td><td>11708.105075522326</td><td>1</td><td>266.3984456128507</td><td>-28.910843348961237</td><td>0.9711605822550461</td><td>7</td></tr>\n",
       "<tr><td>0.10862416389584338</td><td>266.3988033301417</td><td>-28.932458932470524</td><td>17782.881195726804</td><td>1</td><td>266.3988033301417</td><td>-28.932458932470524</td><td>0.10862416389584338</td><td>8</td></tr>\n",
       "<tr><td>...</td><td>...</td><td>...</td><td>...</td><td>...</td><td>...</td><td>...</td><td>...</td><td>...</td></tr>\n",
       "<tr><td>0.08489209658627514</td><td>266.4224343109922</td><td>-28.936234656240927</td><td>8470.13682697434</td><td>1</td><td>266.4224343109922</td><td>-28.936234656240927</td><td>0.08489209658627514</td><td>2118</td></tr>\n",
       "<tr><td>1.800806349501245</td><td>266.42136678632147</td><td>-28.93152717555639</td><td>11124.037452950142</td><td>1</td><td>266.42136678632147</td><td>-28.93152717555639</td><td>1.800806349501245</td><td>2119</td></tr>\n",
       "<tr><td>21.307031261698036</td><td>266.41097667119305</td><td>-28.952673552752476</td><td>15905.953778838739</td><td>1</td><td>266.41097667119305</td><td>-28.952673552752476</td><td>21.307031261698036</td><td>2120</td></tr>\n",
       "<tr><td>2.0042101263309506</td><td>266.423111581343</td><td>-28.94093268147399</td><td>18746.278144069947</td><td>1</td><td>266.423111581343</td><td>-28.94093268147399</td><td>2.0042101263309506</td><td>2121</td></tr>\n",
       "<tr><td>0.12796520908364714</td><td>266.43012463156754</td><td>-28.93085439335099</td><td>16398.623596387915</td><td>1</td><td>266.43012463156754</td><td>-28.93085439335099</td><td>0.12796520908364714</td><td>2122</td></tr>\n",
       "<tr><td>1.8149524022565595</td><td>266.3918600224435</td><td>-28.92625509094515</td><td>7.450145040638745</td><td>1</td><td>266.3918600224435</td><td>-28.92625509094515</td><td>1.8149524022565595</td><td>2123</td></tr>\n",
       "<tr><td>1.3288170385545781</td><td>266.4010033299307</td><td>-28.917787539414096</td><td>31039.072549086995</td><td>1</td><td>266.4010033299307</td><td>-28.917787539414096</td><td>1.3288170385545781</td><td>2124</td></tr>\n",
       "<tr><td>0.13866731475250613</td><td>266.38505203013943</td><td>-28.928982693509823</td><td>854.5903706923127</td><td>1</td><td>266.38505203013943</td><td>-28.928982693509823</td><td>0.13866731475250613</td><td>2125</td></tr>\n",
       "<tr><td>0.4670351285337593</td><td>266.38921989191505</td><td>-28.942621576000178</td><td>31735.821956489235</td><td>1</td><td>266.38921989191505</td><td>-28.942621576000178</td><td>0.4670351285337593</td><td>2126</td></tr>\n",
       "<tr><td>1.5839166182325797</td><td>266.3982351202892</td><td>-28.9214257901176</td><td>29621.43882131204</td><td>1</td><td>266.3982351202892</td><td>-28.9214257901176</td><td>1.5839166182325797</td><td>2127</td></tr>\n",
       "</table>"
      ],
      "text/plain": [
       "<Table length=2128>\n",
       "    ENERGY_TRUE          RA_TRUE       ...        ENERGY       EVENT_ID\n",
       "        TeV                deg         ...         TeV                 \n",
       "      float64            float64       ...       float64        int64  \n",
       "------------------- ------------------ ... ------------------- --------\n",
       " 0.4810854600091019  266.3864001019041 ...  0.4810854600091019        0\n",
       "0.07353832387408077 266.39549386129556 ... 0.07353832387408077        1\n",
       " 2.3042256215233072  266.4002010372554 ...  2.3042256215233072        2\n",
       "0.47121276266498574  266.3840622149844 ... 0.47121276266498574        3\n",
       " 1.9408190047954321 266.38152775664753 ...  1.9408190047954321        4\n",
       " 0.2414723853341287   266.413392364421 ...  0.2414723853341287        5\n",
       " 0.1634274035969091 266.38624148748943 ...  0.1634274035969091        6\n",
       " 0.9711605822550461  266.3984456128507 ...  0.9711605822550461        7\n",
       "0.10862416389584338  266.3988033301417 ... 0.10862416389584338        8\n",
       "                ...                ... ...                 ...      ...\n",
       "0.08489209658627514  266.4224343109922 ... 0.08489209658627514     2118\n",
       "  1.800806349501245 266.42136678632147 ...   1.800806349501245     2119\n",
       " 21.307031261698036 266.41097667119305 ...  21.307031261698036     2120\n",
       " 2.0042101263309506   266.423111581343 ...  2.0042101263309506     2121\n",
       "0.12796520908364714 266.43012463156754 ... 0.12796520908364714     2122\n",
       " 1.8149524022565595  266.3918600224435 ...  1.8149524022565595     2123\n",
       " 1.3288170385545781  266.4010033299307 ...  1.3288170385545781     2124\n",
       "0.13866731475250613 266.38505203013943 ... 0.13866731475250613     2125\n",
       " 0.4670351285337593 266.38921989191505 ...  0.4670351285337593     2126\n",
       " 1.5839166182325797  266.3982351202892 ...  1.5839166182325797     2127"
      ]
     },
     "execution_count": 41,
     "metadata": {},
     "output_type": "execute_result"
    }
   ],
   "source": [
    "events.table"
   ]
  },
  {
   "cell_type": "code",
   "execution_count": 103,
   "metadata": {},
   "outputs": [
    {
     "data": {
      "text/plain": [
       "<matplotlib.colorbar.Colorbar at 0x122363c50>"
      ]
     },
     "execution_count": 103,
     "metadata": {},
     "output_type": "execute_result"
    },
    {
     "data": {
      "image/png": "[encoded data removed]",
      "text/plain": [
       "<Figure size 432x288 with 2 Axes>"
      ]
     },
     "metadata": {
      "needs_background": "light"
     },
     "output_type": "display_data"
    }
   ],
   "source": [
    "plt.hist2d(events.table['RA_TRUE'],events.table['DEC_TRUE'], bins=2, cmap=plt.cm.YlOrRd)\n",
    "plt.colorbar()"
   ]
  },
  {
   "cell_type": "code",
   "execution_count": 72,
   "metadata": {},
   "outputs": [
    {
     "data": {
      "text/plain": [
       "<matplotlib.axes._subplots.WCSAxesSubplot at 0x11ec64eb8>"
      ]
     },
     "execution_count": 72,
     "metadata": {},
     "output_type": "execute_result"
    },
    {
     "data": {
      "image/png": "[encoded data removed]",
      "text/plain": [
       "<Figure size 432x288 with 2 Axes>"
      ]
     },
     "metadata": {
      "needs_background": "light"
     },
     "output_type": "display_data"
    }
   ],
   "source": [
    "model = PointSpatialModel(lon_0=\"0.01deg\", lat_0=\"0.01 deg\", frame=\"galactic\",)\n",
    "\n",
    "geom = WcsGeom.create(\n",
    "    skydir=SkyCoord(\"0d 0d\", frame=\"galactic\"), width=(1, 1), binsz=0.1\n",
    ")\n",
    "model.plot(geom=geom, add_cbar=True)\n"
   ]
  },
  {
   "cell_type": "code",
   "execution_count": null,
   "metadata": {},
   "outputs": [],
   "source": []
  },
  {
   "cell_type": "markdown",
   "metadata": {},
   "source": [
    "### Compare the PSF"
   ]
  },
  {
   "cell_type": "code",
   "execution_count": 155,
   "metadata": {},
   "outputs": [],
   "source": [
    "# # psf_mod = PSF3D(0.01*u.TeV, 300*u.TeV, offset=[0, 2, 4, 6, 8] * u.deg, rad_lo=0.5*u.deg, rad_hi=0.5*u.deg, \n",
    "#                 psf_value=(0.006/u.deg)**2)"
   ]
  },
  {
   "cell_type": "code",
   "execution_count": 156,
   "metadata": {},
   "outputs": [],
   "source": [
    "# psf_mod.plot_containment()"
   ]
  },
  {
   "cell_type": "code",
   "execution_count": 191,
   "metadata": {},
   "outputs": [],
   "source": [
    "psf_gauss = EnergyDependentMultiGaussPSF.read(filename=IRF_FILE, hdu=\"POINT SPREAD FUNCTION\")\n",
    "# psf_gauss = EnergyDependentMultiGaussPSF(energy_lo=0.01*u.TeV, energy_hi=200*u.TeV, \n",
    "#                                          theta=[0, 2, 4, 6, 8] * u.deg, sigmas=[[0.1,0.1,0.1]]*u.deg,\n",
    "#                                         norms=[1,1,1])\n",
    "psf_3d = psf_gauss.to_psf3d(rad=np.linspace(0, 1, 100) * u.deg)"
   ]
  },
  {
   "cell_type": "code",
   "execution_count": 192,
   "metadata": {},
   "outputs": [
    {
     "data": {
      "image/png": "[encoded data removed]",
      "text/plain": [
       "<Figure size 432x288 with 1 Axes>"
      ]
     },
     "metadata": {
      "needs_background": "light"
     },
     "output_type": "display_data"
    }
   ],
   "source": [
    "psf_3d.plot_psf_vs_rad()"
   ]
  },
  {
   "cell_type": "code",
   "execution_count": 171,
   "metadata": {},
   "outputs": [
    {
     "name": "stderr",
     "output_type": "stream",
     "text": [
      "WARNING: AstropyDeprecationWarning: The truth value of a Quantity is ambiguous. In the future this will raise a ValueError. [astropy.units.quantity]\n"
     ]
    }
   ],
   "source": [
    "irfs = load_cta_irfs(IRF_FILE)\n",
    "\n",
    "irfs['psf'] = psf_3d\n",
    "\n",
    "observation = Observation.create(\n",
    "                                 obs_id=1001, pointing=POINTING, livetime=LIVETIME, irfs=irfs\n",
    "                                 )\n",
    "\n",
    "empty = MapDataset.create(WCS_GEOM, energy_axis_true=ENERGY_AXIS_TRUE, migra_axis=MIGRA_AXIS)\n",
    "#    maker = MapDatasetMaker(selection=[\"exposure\", \"edisp\"])\n",
    "#    maker = MapDatasetMaker(selection=[\"exposure\", \"edisp\", \"background\"])\n",
    "maker = MapDatasetMaker(selection=[\"exposure\", \"psf\"])\n",
    "dataset = maker.run(empty, observation)\n"
   ]
  },
  {
   "cell_type": "code",
   "execution_count": 172,
   "metadata": {},
   "outputs": [],
   "source": [
    "dataset.models = models\n",
    "sampler = MapDatasetEventSampler(random_state=0)\n",
    "observation = Observation.create(\n",
    "    obs_id=1001, pointing=POINTING, livetime=LIVETIME, irfs=irfs\n",
    ")\n",
    "\n",
    "events = sampler.run(dataset, observation)\n"
   ]
  },
  {
   "cell_type": "code",
   "execution_count": 185,
   "metadata": {},
   "outputs": [],
   "source": [
    "src_pos = SkyCoord(0*u.deg, 0.0*u.deg, frame='galactic')\n",
    "evt_pos = SkyCoord(events.table['RA_TRUE'], events.table['DEC_TRUE'], frame='icrs')"
   ]
  },
  {
   "cell_type": "code",
   "execution_count": 187,
   "metadata": {},
   "outputs": [],
   "source": [
    "sep = src_pos.separation(evt_pos).value"
   ]
  },
  {
   "cell_type": "code",
   "execution_count": 188,
   "metadata": {},
   "outputs": [
    {
     "data": {
      "text/plain": [
       "(array([ 34.,  98., 149., 210., 323., 366., 439., 307., 152.,  50.]),\n",
       " array([6.83724036e-05, 2.86473120e-03, 5.66108999e-03, 8.45744879e-03,\n",
       "        1.12538076e-02, 1.40501664e-02, 1.68465252e-02, 1.96428840e-02,\n",
       "        2.24392428e-02, 2.52356016e-02, 2.80319603e-02]),\n",
       " <a list of 10 Patch objects>)"
      ]
     },
     "execution_count": 188,
     "metadata": {},
     "output_type": "execute_result"
    },
    {
     "data": {
      "image/png": "[encoded data removed]",
      "text/plain": [
       "<Figure size 432x288 with 1 Axes>"
      ]
     },
     "metadata": {
      "needs_background": "light"
     },
     "output_type": "display_data"
    }
   ],
   "source": [
    "plt.hist(sep)"
   ]
  },
  {
   "cell_type": "code",
   "execution_count": 189,
   "metadata": {},
   "outputs": [
    {
     "ename": "NameError",
     "evalue": "name 'theta' is not defined",
     "output_type": "error",
     "traceback": [
      "\u001b[0;31m---------------------------------------------------------------------------\u001b[0m",
      "\u001b[0;31mNameError\u001b[0m                                 Traceback (most recent call last)",
      "\u001b[0;32m<ipython-input-189-a1d6a17f14d4>\u001b[0m in \u001b[0;36m<module>\u001b[0;34m\u001b[0m\n\u001b[1;32m      1\u001b[0m \u001b[0mtheta_axis\u001b[0m \u001b[0;34m=\u001b[0m \u001b[0mMapAxis\u001b[0m\u001b[0;34m.\u001b[0m\u001b[0mfrom_bounds\u001b[0m\u001b[0;34m(\u001b[0m\u001b[0;36m0\u001b[0m\u001b[0;34m,\u001b[0m \u001b[0;36m0.5\u001b[0m\u001b[0;34m,\u001b[0m \u001b[0mnbin\u001b[0m\u001b[0;34m=\u001b[0m\u001b[0;36m100\u001b[0m\u001b[0;34m,\u001b[0m \u001b[0munit\u001b[0m\u001b[0;34m=\u001b[0m\u001b[0;34m\"deg\"\u001b[0m\u001b[0;34m,\u001b[0m \u001b[0mname\u001b[0m\u001b[0;34m=\u001b[0m\u001b[0;34m\"theta\"\u001b[0m\u001b[0;34m)\u001b[0m\u001b[0;34m\u001b[0m\u001b[0m\n\u001b[1;32m      2\u001b[0m \u001b[0;34m\u001b[0m\u001b[0m\n\u001b[0;32m----> 3\u001b[0;31m \u001b[0mpsf_value\u001b[0m \u001b[0;34m=\u001b[0m \u001b[0mpsf_3d\u001b[0m\u001b[0;34m.\u001b[0m\u001b[0mevaluate\u001b[0m\u001b[0;34m(\u001b[0m\u001b[0menergy\u001b[0m\u001b[0;34m=\u001b[0m\u001b[0;36m1\u001b[0m \u001b[0;34m*\u001b[0m \u001b[0mu\u001b[0m\u001b[0;34m.\u001b[0m\u001b[0mTeV\u001b[0m\u001b[0;34m,\u001b[0m \u001b[0moffset\u001b[0m\u001b[0;34m=\u001b[0m\u001b[0;36m0\u001b[0m \u001b[0;34m*\u001b[0m \u001b[0mu\u001b[0m\u001b[0;34m.\u001b[0m\u001b[0mdeg\u001b[0m\u001b[0;34m,\u001b[0m \u001b[0mrad\u001b[0m\u001b[0;34m=\u001b[0m\u001b[0mtheta\u001b[0m\u001b[0;34m)\u001b[0m\u001b[0;34m\u001b[0m\u001b[0m\n\u001b[0m\u001b[1;32m      4\u001b[0m \u001b[0mpsf_value\u001b[0m \u001b[0;34m=\u001b[0m \u001b[0mpsf_value\u001b[0m \u001b[0;34m/\u001b[0m \u001b[0mpsf_value\u001b[0m\u001b[0;34m.\u001b[0m\u001b[0msum\u001b[0m\u001b[0;34m(\u001b[0m\u001b[0;34m)\u001b[0m\u001b[0;34m\u001b[0m\u001b[0m\n\u001b[1;32m      5\u001b[0m \u001b[0;34m\u001b[0m\u001b[0m\n",
      "\u001b[0;31mNameError\u001b[0m: name 'theta' is not defined"
     ]
    }
   ],
   "source": [
    "theta_axis = MapAxis.from_bounds(0, 0.5, nbin=100, unit=\"deg\", name=\"theta\")\n",
    "\n",
    "psf_value = psf_3d.evaluate(energy=1 * u.TeV, offset=0 * u.deg, rad=theta)\n",
    "psf_value = psf_value / psf_value.sum()\n",
    "\n",
    "psf_hist, vals = np.histogram(coords, theta_axis.edges)\n",
    "plt.step(theta, psf_hist / psf_hist.sum());\n",
    "plt.plot(theta, psf_value.squeeze())\n",
    "plt.semilogy()\n",
    "plt.ylim(1e-6, 1)\n",
    "plt.xlim(0, 0.2)"
   ]
  },
  {
   "cell_type": "code",
   "execution_count": null,
   "metadata": {},
   "outputs": [],
   "source": []
  }
 ],
 "metadata": {
  "kernelspec": {
   "display_name": "Python 3",
   "language": "python",
   "name": "python3"
  },
  "language_info": {
   "codemirror_mode": {
    "name": "ipython",
    "version": 3
   },
   "file_extension": ".py",
   "mimetype": "text/x-python",
   "name": "python",
   "nbconvert_exporter": "python",
   "pygments_lexer": "ipython3",
   "version": "3.7.0"
  }
 },
 "nbformat": 4,
 "nbformat_minor": 4
}
