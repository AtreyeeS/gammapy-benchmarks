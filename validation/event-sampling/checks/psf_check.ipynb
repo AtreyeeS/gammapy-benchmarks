{
 "cells": [
  {
   "cell_type": "markdown",
   "metadata": {},
   "source": [
    "# PSF Check"
   ]
  },
  {
   "cell_type": "code",
   "execution_count": 1,
   "metadata": {},
   "outputs": [],
   "source": [
    "from gammapy.cube import PSFMap\n",
    "from gammapy.irf import EnergyDependentTablePSF"
   ]
  },
  {
   "cell_type": "code",
   "execution_count": 230,
   "metadata": {},
   "outputs": [],
   "source": [
    "from pathlib import Path\n",
    "\n",
    "from astropy.coordinates import SkyCoord\n",
    "from astropy.table import Table\n",
    "from gammapy.maps import WcsGeom\n",
    "from gammapy.modeling.models import (\n",
    "    Models,\n",
    "    PointSpatialModel,\n",
    "    PowerLawSpectralModel,\n",
    "    SkyModel,\n",
    ")\n",
    "from gammapy.data import GTI, Observation, EventList\n",
    "from gammapy.maps import MapAxis, WcsGeom, Map, MapCoord\n",
    "from gammapy.maps.profile import ImageProfile, ImageProfileEstimator\n",
    "from gammapy.irf import EnergyDispersion2D, PSF3D, EnergyDependentMultiGaussPSF, load_cta_irfs\n",
    "\n",
    "from gammapy.cube import (\n",
    "    MapDataset,\n",
    "    MapDatasetEventSampler,\n",
    "    MapDatasetMaker,\n",
    ")\n",
    "from gammapy.utils.random import get_random_state\n"
   ]
  },
  {
   "cell_type": "code",
   "execution_count": 3,
   "metadata": {},
   "outputs": [],
   "source": [
    "import numpy as np\n",
    "from scipy.stats import norm\n",
    "from scipy.optimize import curve_fit\n",
    "import matplotlib.pyplot as plt\n",
    "from matplotlib import colors\n",
    "from matplotlib.ticker import PercentFormatter\n",
    "import astropy.units as u\n"
   ]
  },
  {
   "cell_type": "code",
   "execution_count": 4,
   "metadata": {},
   "outputs": [],
   "source": [
    "def get_filename_dataset(livetime):\n",
    "    filename = f\"data/dataset_{livetime.value:.0f}{livetime.unit}.fits.gz\"\n",
    "    return BASE_PATH / filename\n",
    "\n",
    "\n",
    "def get_filename_events(filename_dataset, filename_model, obs_id):\n",
    "    obs_id=int(obs_id)\n",
    "    model_str = filename_model.name.replace(filename_model.suffix, \"\")\n",
    "    filename_events = filename_dataset.name.replace(\"dataset\", \"events\")\n",
    "    filename_events = BASE_PATH / f\"data/models/{model_str}/\" / filename_events\n",
    "    filename_events = filename_events.name.replace(\".fits.gz\", f\"_{obs_id:04d}.fits.gz\")\n",
    "    path = BASE_PATH / f\"data/models/{model_str}/\" / filename_events\n",
    "    return path\n"
   ]
  },
  {
   "cell_type": "code",
   "execution_count": 5,
   "metadata": {},
   "outputs": [],
   "source": [
    "def gaussian(x, amp, wid):\n",
    "    return amp * np.exp(-(x)**2 / (2*wid**2.))\n"
   ]
  },
  {
   "cell_type": "code",
   "execution_count": 6,
   "metadata": {},
   "outputs": [],
   "source": [
    "BASE_PATH = Path(\"../make.py\").parent"
   ]
  },
  {
   "cell_type": "code",
   "execution_count": 7,
   "metadata": {},
   "outputs": [],
   "source": [
    "model = \"point-pwlsimple\"\n",
    "filename_model = BASE_PATH / f\"models/{model}.yaml\"\n"
   ]
  },
  {
   "cell_type": "code",
   "execution_count": 343,
   "metadata": {},
   "outputs": [],
   "source": [
    "IRF_FILE = \"$GAMMAPY_DATA/cta-1dc/caldb/data/cta/1dc/bcf/South_z20_50h/irf_file.fits\"\n",
    "POINTING = SkyCoord(0.0, 0.0, frame=\"galactic\", unit=\"deg\")\n",
    "LIVETIME = 10 * u.hr\n",
    "GTI_TABLE = GTI.create(start=0 * u.s, stop=LIVETIME.to(u.s))\n",
    "\n",
    "# dataset config\n",
    "ENERGY_AXIS = MapAxis.from_energy_bounds(\"0.1 TeV\", \"100 TeV\", nbin=10, per_decade=True)\n",
    "ENERGY_AXIS_TRUE = MapAxis.from_energy_bounds(\"0.03 TeV\", \"300 TeV\", nbin=20, per_decade=True)\n",
    "MIGRA_AXIS = MapAxis.from_bounds(0.5, 2, nbin=150, node_type=\"edges\", name=\"migra\")\n",
    "\n",
    "WCS_GEOM = WcsGeom.create(\n",
    "    skydir=POINTING, width=(0.15, 0.15), binsz=0.01, frame=\"galactic\", axes=[ENERGY_AXIS]\n",
    ")\n"
   ]
  },
  {
   "cell_type": "markdown",
   "metadata": {},
   "source": [
    "### Create the dataset"
   ]
  },
  {
   "cell_type": "code",
   "execution_count": 182,
   "metadata": {},
   "outputs": [],
   "source": [
    "# spatial_model = PointSpatialModel(lon_0=\"0.0deg\", lat_0=\"0.0deg\", frame=\"galactic\")\n",
    "# spectral_model = PowerLawSpectralModel(amplitude=\"1e-11 cm-2 s-1 TeV-1\")\n",
    "# skymodel = SkyModel(spatial_model=spatial_model, spectral_model=spectral_model)\n",
    "\n",
    "# #Now we create a reference exposure map, we use to evaluate the model:\n",
    "# position = SkyCoord(0.0, 0.0, frame='galactic', unit='deg')\n",
    "\n",
    "# energy_axis = MapAxis.from_bounds(1, 100, nbin=30, unit=\"TeV\", name=\"energy\", interp=\"log\")\n",
    "\n",
    "# exposure = Map.create(\n",
    "#     binsz=0.02,\n",
    "#     map_type='wcs',\n",
    "#     skydir=position,\n",
    "#     width=\"5 deg\",\n",
    "#     axes=[energy_axis],\n",
    "#     frame=\"galactic\", unit=\"cm2 s\"\n",
    "# )\n",
    "\n",
    "# exposure.data = 1e10 * 1000 * np.ones(exposure.data.shape)\n",
    "\n",
    "# evaluator = MapDataset.create(WCS_GEOM, models=skymodel, exposure=exposure)\n",
    "\n",
    "# npred = evaluator.compute_npred()\n",
    "# n_events = self.random_state.poisson(np.sum(npred.data))"
   ]
  },
  {
   "cell_type": "code",
   "execution_count": 183,
   "metadata": {},
   "outputs": [],
   "source": [
    "# evaluator.exposure=exposure"
   ]
  },
  {
   "cell_type": "code",
   "execution_count": null,
   "metadata": {},
   "outputs": [],
   "source": []
  },
  {
   "cell_type": "code",
   "execution_count": 184,
   "metadata": {},
   "outputs": [],
   "source": [
    "# npred = evaluator.npred()"
   ]
  },
  {
   "cell_type": "code",
   "execution_count": 185,
   "metadata": {},
   "outputs": [],
   "source": [
    "# random_state = get_random_state(0)\n",
    "# n_events = random_state.poisson(np.sum(npred.data))\n",
    "# coords = npred.sample_coord(n_events, random_state)"
   ]
  },
  {
   "cell_type": "code",
   "execution_count": 186,
   "metadata": {},
   "outputs": [],
   "source": [
    "# npred.data\n",
    "# n_events\n",
    "# coords['energy']"
   ]
  },
  {
   "cell_type": "code",
   "execution_count": 390,
   "metadata": {},
   "outputs": [
    {
     "name": "stderr",
     "output_type": "stream",
     "text": [
      "WARNING: AstropyDeprecationWarning: The truth value of a Quantity is ambiguous. In the future this will raise a ValueError. [astropy.units.quantity]\n"
     ]
    }
   ],
   "source": [
    "irfs = load_cta_irfs(IRF_FILE)\n",
    "\n",
    "observation = Observation.create(\n",
    "                                 obs_id=1001, pointing=POINTING, livetime=LIVETIME, irfs=irfs\n",
    "                                 )\n",
    "\n",
    "empty = MapDataset.create(WCS_GEOM, energy_axis_true=ENERGY_AXIS_TRUE, migra_axis=MIGRA_AXIS)\n",
    "maker = MapDatasetMaker(selection=[\"exposure\"])\n",
    "dataset = maker.run(empty, observation)"
   ]
  },
  {
   "cell_type": "code",
   "execution_count": 346,
   "metadata": {},
   "outputs": [],
   "source": [
    "models = Models.read(filename_model)\n",
    "dataset.models = models"
   ]
  },
  {
   "cell_type": "code",
   "execution_count": 348,
   "metadata": {},
   "outputs": [],
   "source": [
    "evaluator=dataset._evaluators[0]\n",
    "npred = evaluator.compute_npred()"
   ]
  },
  {
   "cell_type": "code",
   "execution_count": 470,
   "metadata": {},
   "outputs": [],
   "source": [
    "a=npred.sum_over_axes()"
   ]
  },
  {
   "cell_type": "code",
   "execution_count": null,
   "metadata": {},
   "outputs": [],
   "source": []
  },
  {
   "cell_type": "markdown",
   "metadata": {},
   "source": [
    "#### Simulate the events"
   ]
  },
  {
   "cell_type": "code",
   "execution_count": 391,
   "metadata": {},
   "outputs": [],
   "source": [
    "random_state = get_random_state(0)\n",
    "n_events = random_state.poisson(np.sum(npred.data))\n",
    "coords = npred.sample_coord(n_events, random_state)"
   ]
  },
  {
   "cell_type": "code",
   "execution_count": 350,
   "metadata": {},
   "outputs": [],
   "source": [
    "coord = SkyCoord(coords['lon'], coords['lat'], frame='galactic')"
   ]
  },
  {
   "cell_type": "code",
   "execution_count": 351,
   "metadata": {},
   "outputs": [],
   "source": [
    "ra,dec = coord.icrs.ra.value,coord.icrs.dec.value "
   ]
  },
  {
   "cell_type": "markdown",
   "metadata": {},
   "source": [
    "#### Pointlike source distribution"
   ]
  },
  {
   "cell_type": "code",
   "execution_count": 389,
   "metadata": {},
   "outputs": [],
   "source": [
    "model = PointSpatialModel(lon_0=\"0.01deg\", lat_0=\"0.01deg\", frame=\"galactic\",)\n",
    "\n",
    "width=0.15\n",
    "bins=0.01\n",
    "geom = WcsGeom.create(\n",
    "    skydir=SkyCoord(\"0.0d 0.0d\", frame=\"galactic\"), width=(width, width), binsz=bins\n",
    ")"
   ]
  },
  {
   "cell_type": "markdown",
   "metadata": {},
   "source": [
    "#### Compare the 2Dhistograms"
   ]
  },
  {
   "cell_type": "code",
   "execution_count": 386,
   "metadata": {},
   "outputs": [
    {
     "data": {
      "text/plain": [
       "<matplotlib.colorbar.Colorbar at 0x13144c828>"
      ]
     },
     "execution_count": 386,
     "metadata": {},
     "output_type": "execute_result"
    },
    {
     "data": {
      "image/png": "[encoded data removed]",
      "text/plain": [
       "<Figure size 432x288 with 2 Axes>"
      ]
     },
     "metadata": {
      "needs_background": "light"
     },
     "output_type": "display_data"
    },
    {
     "data": {
      "image/png": "[encoded data removed]",
      "text/plain": [
       "<Figure size 432x288 with 2 Axes>"
      ]
     },
     "metadata": {
      "needs_background": "light"
     },
     "output_type": "display_data"
    }
   ],
   "source": [
    "#plot the point source\n",
    "model.plot(geom=geom, add_cbar=True)\n",
    "\n",
    "#plot the npred histogram\n",
    "plt.subplots(1,1)\n",
    "weights = np.ones_like(ra)/float(len(ra))\n",
    "plt.hist2d(ra,dec, bins=2, \n",
    "           cmap=plt.cm.YlOrRd, weights=weights,\n",
    "          )\n",
    "plt.xlim(266.36,266.45)\n",
    "plt.ylim(-28.96,-28.91)\n",
    "plt.colorbar()"
   ]
  },
  {
   "cell_type": "code",
   "execution_count": null,
   "metadata": {},
   "outputs": [],
   "source": [
    "fig,ax=plt.subplots(1,1)\n",
    "ax = model.plot(geom=geom, add_cbar=True)\n",
    "\n",
    "fig,ax=plt.subplots(1,1)\n",
    "weights = np.ones_like(ra)/float(len(ra))\n",
    "ax.hist2d(ra,dec, bins=2, \n",
    "           cmap=plt.cm.YlOrRd, weights=weights,\n",
    "          )\n",
    "ax.set_xlim(266.36,266.45)\n",
    "ax.set_ylim(-28.96,-28.91)\n",
    "# fig.colorbar(axs[1], ax=fig)"
   ]
  },
  {
   "cell_type": "markdown",
   "metadata": {},
   "source": [
    "### Create a fake PSF"
   ]
  },
  {
   "cell_type": "code",
   "execution_count": 496,
   "metadata": {},
   "outputs": [],
   "source": [
    "psf_gauss = EnergyDependentMultiGaussPSF.read(filename=IRF_FILE, hdu=\"POINT SPREAD FUNCTION\")\n",
    "psf_gauss.sigmas[0] = (psf_gauss.sigmas[0] / psf_gauss.sigmas[0]) * 0.1\n",
    "psf_gauss.norms[0][:] = 1\n",
    "psf_3d = psf_gauss.to_psf3d(rad=np.linspace(0, 1, 100) * u.deg)"
   ]
  },
  {
   "cell_type": "code",
   "execution_count": null,
   "metadata": {},
   "outputs": [],
   "source": []
  },
  {
   "cell_type": "code",
   "execution_count": 490,
   "metadata": {},
   "outputs": [
    {
     "data": {
      "image/png": "[encoded data removed]",
      "text/plain": [
       "<Figure size 432x288 with 1 Axes>"
      ]
     },
     "metadata": {
      "needs_background": "light"
     },
     "output_type": "display_data"
    }
   ],
   "source": [
    "psf_3d.plot_containment_vs_energy()"
   ]
  },
  {
   "cell_type": "markdown",
   "metadata": {},
   "source": [
    "##### Create the dataset"
   ]
  },
  {
   "cell_type": "code",
   "execution_count": 419,
   "metadata": {},
   "outputs": [],
   "source": [
    "irfs = load_cta_irfs(IRF_FILE)\n",
    "\n",
    "irfs['psf'] = psf_3d\n",
    "\n",
    "observation = Observation.create(\n",
    "                                 obs_id=1001, pointing=POINTING, livetime=LIVETIME*10, irfs=irfs\n",
    "                                 )\n",
    "\n",
    "empty = MapDataset.create(WCS_GEOM, energy_axis_true=ENERGY_AXIS_TRUE, migra_axis=MIGRA_AXIS)\n",
    "maker = MapDatasetMaker(selection=[\"exposure\", \"psf\"])\n",
    "dataset = maker.run(empty, observation)"
   ]
  },
  {
   "cell_type": "markdown",
   "metadata": {},
   "source": [
    "##### Simulate the events"
   ]
  },
  {
   "cell_type": "code",
   "execution_count": 420,
   "metadata": {},
   "outputs": [],
   "source": [
    "models = Models.read(filename_model)\n",
    "dataset.models = models\n",
    "sampler = MapDatasetEventSampler(random_state=0)\n",
    "observation = Observation.create(\n",
    "    obs_id=1001, pointing=POINTING, livetime=LIVETIME, irfs=irfs\n",
    ")\n",
    "\n",
    "events = sampler.run(dataset, observation)"
   ]
  },
  {
   "cell_type": "code",
   "execution_count": 421,
   "metadata": {},
   "outputs": [],
   "source": [
    "tab=events.table['RA','DEC','ENERGY']"
   ]
  },
  {
   "cell_type": "code",
   "execution_count": 422,
   "metadata": {},
   "outputs": [],
   "source": [
    "events.table = tab"
   ]
  },
  {
   "cell_type": "code",
   "execution_count": 423,
   "metadata": {},
   "outputs": [],
   "source": [
    "# events.table"
   ]
  },
  {
   "cell_type": "code",
   "execution_count": 424,
   "metadata": {},
   "outputs": [
    {
     "data": {
      "text/plain": [
       "(<Figure size 432x288 with 2 Axes>,\n",
       " <matplotlib.axes._subplots.WCSAxesSubplot at 0x11b58a0f0>,\n",
       " <matplotlib.colorbar.Colorbar at 0x1321eb320>)"
      ]
     },
     "execution_count": 424,
     "metadata": {},
     "output_type": "execute_result"
    },
    {
     "data": {
      "image/png": "[encoded data removed]",
      "text/plain": [
       "<Figure size 432x288 with 2 Axes>"
      ]
     },
     "metadata": {
      "needs_background": "light"
     },
     "output_type": "display_data"
    }
   ],
   "source": [
    "counts = Map.create(frame=\"galactic\", skydir=(0, 0.), binsz=0.01, npix=(100, 100))\n",
    "counts.fill_events(events)\n",
    "counts.plot(add_cbar=True)"
   ]
  },
  {
   "cell_type": "code",
   "execution_count": 425,
   "metadata": {},
   "outputs": [],
   "source": [
    "p = ImageProfileEstimator(method='sum', axis='radial', center=POINTING)\n",
    "profile = p.run(counts)"
   ]
  },
  {
   "cell_type": "code",
   "execution_count": 426,
   "metadata": {},
   "outputs": [],
   "source": [
    "dr = (profile.table['x_max']-profile.table['x_min'])\n",
    "x = profile.table['x_ref']\n",
    "y = profile.table['profile']*2*np.pi*x*dr\n",
    "yerr = np.where(y<=0, 1e6, y**0.5) #not correctly estimated..."
   ]
  },
  {
   "cell_type": "code",
   "execution_count": 427,
   "metadata": {},
   "outputs": [
    {
     "name": "stdout",
     "output_type": "stream",
     "text": [
      "############\n",
      "This is the normalization: 4.500840148098383 +\\- 0.17009497129360698\n",
      "This is the sigma: 0.1257570454227987 +\\- 0.0027958918115839333\n",
      "############\n"
     ]
    }
   ],
   "source": [
    "init_vals = [6, 0.1]\n",
    "best_vals, covar = curve_fit(gaussian, x[2:], \n",
    "                             (y[2:]), \n",
    "                             p0=init_vals, \n",
    "                             sigma=yerr[2:])\n",
    "\n",
    "print(\"############\")\n",
    "print(f\"This is the normalization: {best_vals[0]} +\\- {covar[0,0]**0.5}\")\n",
    "print(f\"This is the sigma: {best_vals[1]} +\\- {covar[1,1]**0.5}\")\n",
    "print(\"############\")"
   ]
  },
  {
   "cell_type": "code",
   "execution_count": 429,
   "metadata": {},
   "outputs": [
    {
     "data": {
      "image/png": "[encoded data removed]",
      "text/plain": [
       "<Figure size 432x288 with 1 Axes>"
      ]
     },
     "metadata": {
      "needs_background": "light"
     },
     "output_type": "display_data"
    }
   ],
   "source": [
    "plt.plot(x[2:], y[2:])\n",
    "plt.plot(x[2:], gaussian(x[2:],*best_vals))\n",
    "plt.show()"
   ]
  },
  {
   "cell_type": "markdown",
   "metadata": {},
   "source": [
    "#### Check sample_psf_coord()"
   ]
  },
  {
   "cell_type": "code",
   "execution_count": 282,
   "metadata": {},
   "outputs": [],
   "source": [
    "table = Table()"
   ]
  },
  {
   "cell_type": "code",
   "execution_count": 283,
   "metadata": {},
   "outputs": [],
   "source": [
    "n_events = int(len(events.table))\n",
    "table['RA_TRUE'] = np.ones(n_events)*266.40498829 * u.deg\n",
    "table['DEC_TRUE'] = np.ones(n_events)*-28.93617776 * u.deg\n",
    "table['ENERGY_TRUE'] = events.table['ENERGY_TRUE']\n",
    "table = EventList(table)"
   ]
  },
  {
   "cell_type": "code",
   "execution_count": 284,
   "metadata": {},
   "outputs": [],
   "source": [
    "sampler = MapDatasetEventSampler(random_state=0)\n",
    "evt_psf_mod = sampler.sample_psf(dataset.psf, table)"
   ]
  },
  {
   "cell_type": "code",
   "execution_count": 285,
   "metadata": {},
   "outputs": [
    {
     "data": {
      "text/plain": [
       "(<Figure size 432x288 with 2 Axes>,\n",
       " <matplotlib.axes._subplots.WCSAxesSubplot at 0x12dbc4dd8>,\n",
       " <matplotlib.colorbar.Colorbar at 0x12d143f60>)"
      ]
     },
     "execution_count": 285,
     "metadata": {},
     "output_type": "execute_result"
    },
    {
     "data": {
      "image/png": "[encoded data removed]",
      "text/plain": [
       "<Figure size 432x288 with 2 Axes>"
      ]
     },
     "metadata": {
      "needs_background": "light"
     },
     "output_type": "display_data"
    }
   ],
   "source": [
    "counts = Map.create(frame=\"galactic\", skydir=(0, 0.), binsz=0.01, npix=(100, 100))\n",
    "counts.fill_events(evt_psf_mod)\n",
    "counts.plot(add_cbar=True)"
   ]
  },
  {
   "cell_type": "code",
   "execution_count": 338,
   "metadata": {},
   "outputs": [],
   "source": [
    "p = ImageProfileEstimator(method='sum', axis='radial', center=POINTING)\n",
    "profile = p.run(counts)"
   ]
  },
  {
   "cell_type": "code",
   "execution_count": 339,
   "metadata": {},
   "outputs": [],
   "source": [
    "index = np.where(profile.table['profile']>0)\n",
    "dr = (profile.table['x_max']-profile.table['x_min'])[index]\n",
    "x = profile.table['x_ref'][index]\n",
    "y = profile.table['profile'][index]*2*np.pi*x*dr\n",
    "yerr = y**0.5"
   ]
  },
  {
   "cell_type": "code",
   "execution_count": 340,
   "metadata": {},
   "outputs": [
    {
     "name": "stdout",
     "output_type": "stream",
     "text": [
      "############\n",
      "This is the normalization: 4.536487704160845 +\\- 0.21069241054066848\n",
      "This is the sigma: 0.12255440957273175 +\\- 0.003363419659192104\n",
      "############\n"
     ]
    }
   ],
   "source": [
    "init_vals = [6, 0.1]\n",
    "best_vals, covar = curve_fit(gaussian, x[2:], \n",
    "                             (y[2:]), \n",
    "                             p0=init_vals, \n",
    "                             sigma=yerr[2:])\n",
    "\n",
    "print(\"############\")\n",
    "print(f\"This is the normalization: {best_vals[0]} +\\- {covar[0,0]**0.5}\")\n",
    "print(f\"This is the sigma: {best_vals[1]} +\\- {covar[1,1]**0.5}\")\n",
    "print(\"############\")"
   ]
  },
  {
   "cell_type": "code",
   "execution_count": 341,
   "metadata": {},
   "outputs": [
    {
     "data": {
      "image/png": "[encoded data removed]",
      "text/plain": [
       "<Figure size 432x288 with 1 Axes>"
      ]
     },
     "metadata": {
      "needs_background": "light"
     },
     "output_type": "display_data"
    }
   ],
   "source": [
    "plt.plot(x[2:], y[2:])\n",
    "plt.plot(x[2:], gaussian(x[2:],*best_vals))\n",
    "plt.show()"
   ]
  },
  {
   "cell_type": "markdown",
   "metadata": {},
   "source": [
    "#### Comparing 1D histograms"
   ]
  },
  {
   "cell_type": "code",
   "execution_count": 448,
   "metadata": {},
   "outputs": [],
   "source": [
    "models = Models.read(filename_model)\n",
    "dataset.models = models\n",
    "sampler = MapDatasetEventSampler(random_state=0)\n",
    "observation = Observation.create(\n",
    "    obs_id=1001, pointing=POINTING, livetime=LIVETIME, irfs=irfs\n",
    ")\n",
    "\n",
    "events = sampler.run(dataset, observation)"
   ]
  },
  {
   "cell_type": "code",
   "execution_count": 449,
   "metadata": {},
   "outputs": [],
   "source": [
    "src_pos = SkyCoord(0.0*u.deg, 0.0*u.deg, frame='galactic')\n",
    "evt_pos = SkyCoord(events.table['RA'], events.table['DEC'], frame='icrs')\n",
    "evt_pos_psf_mod = SkyCoord(evt_psf_mod.table['RA'], evt_psf_mod.table['DEC'], frame='icrs')\n",
    "sep = src_pos.separation(evt_pos).value\n",
    "sep_other = src_pos.separation(evt_pos_psf_mod).value"
   ]
  },
  {
   "cell_type": "code",
   "execution_count": 484,
   "metadata": {},
   "outputs": [
    {
     "data": {
      "text/plain": [
       "<matplotlib.legend.Legend at 0x135ab5668>"
      ]
     },
     "execution_count": 484,
     "metadata": {},
     "output_type": "execute_result"
    },
    {
     "data": {
      "image/png": "[encoded data removed]",
      "text/plain": [
       "<Figure size 432x288 with 1 Axes>"
      ]
     },
     "metadata": {
      "needs_background": "light"
     },
     "output_type": "display_data"
    }
   ],
   "source": [
    "plt.hist(sep_other, bins=50, label='fixed coordinates')\n",
    "plt.hist(sep, bins=50, label='')\n",
    "# plt.plot(x[2:], gaussian(x[2:],5000,0.1))\n",
    "plt.legend()"
   ]
  },
  {
   "cell_type": "code",
   "execution_count": 221,
   "metadata": {},
   "outputs": [],
   "source": [
    "# model = PointSpatialModel(lon_0=\"0.0deg\", lat_0=\"0.0 deg\", frame=\"galactic\",)\n",
    "\n",
    "# bins=0.002\n",
    "# width=0.1\n",
    "# geom = WcsGeom.create(\n",
    "#     skydir=SkyCoord(\"0d 0d\", frame=\"galactic\"), width=(width, width), binsz=bins\n",
    "# )\n",
    "# # model.plot(geom=geom, add_cbar=True)"
   ]
  },
  {
   "cell_type": "code",
   "execution_count": 222,
   "metadata": {},
   "outputs": [],
   "source": [
    "# pnt_pos = geom.get_coord().skycoord"
   ]
  },
  {
   "cell_type": "code",
   "execution_count": 223,
   "metadata": {},
   "outputs": [],
   "source": [
    "# pnt_pos = np.reshape(pnt_pos, (1,int(width/bins)**2))[0]"
   ]
  },
  {
   "cell_type": "code",
   "execution_count": 224,
   "metadata": {},
   "outputs": [],
   "source": [
    "# pnt_sep = src_pos.separation(pnt_pos).value"
   ]
  },
  {
   "cell_type": "code",
   "execution_count": 225,
   "metadata": {},
   "outputs": [],
   "source": [
    "# plt.hist(pnt_sep, bins=10)"
   ]
  },
  {
   "cell_type": "code",
   "execution_count": 226,
   "metadata": {},
   "outputs": [],
   "source": [
    "# # do that with sample_psf_coord\n",
    "# weights1 = np.ones_like(pnt_sep)/float(len(pnt_sep))\n",
    "# weights2 = np.ones_like(sep)/float(len(sep))\n",
    "# plt.hist(pnt_sep, bins=20, weights=weights1, label='point-like')\n",
    "# plt.hist(sep, bins=20, weights=weights2, label='sim. events')\n",
    "# plt.legend()\n",
    "# # plt.hist(pnt_sep, bins=20)\n",
    "# # plt.hist(sep, bins=20)\n",
    "# # axs[0].yaxis.set_major_formatter(PercentFormatter(xmax=1))\n",
    "# # axs[1].yaxis.set_major_formatter(PercentFormatter(xmax=1))"
   ]
  },
  {
   "cell_type": "code",
   "execution_count": null,
   "metadata": {},
   "outputs": [],
   "source": []
  }
 ],
 "metadata": {
  "kernelspec": {
   "display_name": "Python 3",
   "language": "python",
   "name": "python3"
  },
  "language_info": {
   "codemirror_mode": {
    "name": "ipython",
    "version": 3
   },
   "file_extension": ".py",
   "mimetype": "text/x-python",
   "name": "python",
   "nbconvert_exporter": "python",
   "pygments_lexer": "ipython3",
   "version": "3.7.0"
  }
 },
 "nbformat": 4,
 "nbformat_minor": 4
}
