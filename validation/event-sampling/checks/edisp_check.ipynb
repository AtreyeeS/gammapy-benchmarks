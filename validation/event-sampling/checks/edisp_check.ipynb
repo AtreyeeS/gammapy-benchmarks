{
 "cells": [
  {
   "cell_type": "markdown",
   "metadata": {},
   "source": [
    "# Energy dispersion check\n",
    "\n",
    "This notebook checks the self consistency of the energy dispersion during event sampling. For this we compute an energy dispersion map. Then we choose one value of true energy and sample the reconstructed energy. Finally we compare against resulting distribution against the PSF contained in the energy migration matrix."
   ]
  },
  {
   "cell_type": "code",
   "execution_count": 1,
   "metadata": {},
   "outputs": [],
   "source": [
    "%matplotlib inline\n",
    "import numpy as np\n",
    "import matplotlib.pyplot as plt"
   ]
  },
  {
   "cell_type": "code",
   "execution_count": 2,
   "metadata": {},
   "outputs": [],
   "source": [
    "from gammapy.cube import MapDataset, EDispMap, MapDatasetMaker\n",
    "from gammapy.maps import MapCoord, MapAxis, WcsGeom\n",
    "from gammapy.irf import EnergyDispersion2D, load_cta_irfs\n",
    "from astropy.coordinates import SkyCoord\n",
    "from astropy import units as u\n",
    "from gammapy.data import Observation"
   ]
  },
  {
   "cell_type": "code",
   "execution_count": 3,
   "metadata": {},
   "outputs": [],
   "source": [
    "IRF_FILE = \"$GAMMAPY_DATA/cta-1dc/caldb/data/cta/1dc/bcf/South_z20_50h/irf_file.fits\"\n",
    "\n",
    "E_TRUE_AXIS = MapAxis.from_energy_bounds(\"0.03 TeV\", \"300 TeV\", nbin=40)\n",
    "E_RECO_AXIS = MapAxis.from_energy_bounds(\"0.1 TeV\", \"100 TeV\", nbin=30)\n",
    "\n",
    "# this is the defaulr used in Gammapy right now\n",
    "MIGRA_AXIS = MapAxis.from_bounds(0.2, 5, nbin=150, node_type=\"edges\", name=\"migra\")\n",
    "\n",
    "N_EVENTS = 100_000\n",
    "\n",
    "# idx=10 is ~1 TeV\n",
    "E_TRUE = E_TRUE_AXIS.center[15]"
   ]
  },
  {
   "cell_type": "markdown",
   "metadata": {},
   "source": [
    "Here we define a little helper function to compute an `EDispMap`:"
   ]
  },
  {
   "cell_type": "code",
   "execution_count": 4,
   "metadata": {},
   "outputs": [],
   "source": [
    "def make_edisp_map(edisp):\n",
    "    pointing = SkyCoord(1, 0, frame=\"galactic\", unit=\"deg\")\n",
    "    irfs = load_cta_irfs(IRF_FILE)\n",
    "    irfs[\"edisp\"] = edisp\n",
    "    obs = Observation.create(pointing=pointing, livetime=\"1 h\", irfs=irfs)\n",
    "    \n",
    "    geom = WcsGeom.create(\n",
    "        skydir=pointing, width=(1, 1), binsz=0.02, frame=\"galactic\", axes=[E_RECO_AXIS]\n",
    "    )\n",
    "    dataset_empty = MapDataset.create(geom=geom, energy_axis_true=E_TRUE_AXIS, migra_axis=MIGRA_AXIS)\n",
    "    \n",
    "    maker = MapDatasetMaker(selection=[\"edisp\"])\n",
    "    \n",
    "    dataset = maker.run(dataset_empty, obs)\n",
    "    return dataset.edisp"
   ]
  },
  {
   "cell_type": "code",
   "execution_count": 5,
   "metadata": {},
   "outputs": [],
   "source": [
    "def plot_edisp_comparison(e_reco_events, edisp_kernel):\n",
    "    plt.figure(figsize=(12, 8))\n",
    "    idx = edisp_kernel.e_true.coord_to_idx(E_TRUE)\n",
    "    values = edisp_kernel.pdf_matrix[int(idx)]\n",
    "\n",
    "    norm = 1 / (edisp_kernel.e_reco.bin_width * values).sum()\n",
    "    plt.step(edisp_kernel.e_reco.edges[:-1].value, norm * values, label=\"Edisp kernel\", where=\"post\")\n",
    "    plt.scatter(edisp_kernel.e_reco.center.value, norm * values, zorder=10)\n",
    "    \n",
    "    data, _ = np.histogram(e_reco_events.value, bins=edisp_kernel.e_reco.edges.value)\n",
    "    norm = 1 / (edisp_kernel.e_reco.bin_width.value * data).sum()\n",
    "    \n",
    "    plt.step(edisp_kernel.e_reco.edges[:-1].value, data * norm, label=\"Sampled edisp\", where=\"post\")\n",
    "    plt.vlines(E_TRUE.value, 0, (norm * values).max())\n",
    "    \n",
    "    mean = e_reco_events.mean()\n",
    "    mean_pdf = (edisp_kernel.e_reco.center * values).sum()\n",
    "    print(f\"E_true      : {E_TRUE:.4f}\")\n",
    "    print(f\"Mean samples: {mean:.4f}\")\n",
    "    print(f\"Mean PDF    : {mean_pdf:.4f}\")\n",
    "\n",
    "    plt.semilogx()\n",
    "    plt.xlim(0.4, 3)\n",
    "    plt.xlabel(\"$E_{Reco}$ [TeV]\");\n",
    "    plt.legend()"
   ]
  },
  {
   "cell_type": "code",
   "execution_count": 6,
   "metadata": {},
   "outputs": [],
   "source": [
    "def sample_events_e_reco(edisp_map):\n",
    "    lon, lat = np.zeros(N_EVENTS), np.zeros(N_EVENTS)\n",
    "    skycoord = SkyCoord(lon, lat, unit=\"deg\", frame=\"galactic\")\n",
    "    energy = E_TRUE * np.ones(len(skycoord))\n",
    "    coords = MapCoord.create({\"skycoord\": skycoord, \"energy\": energy})\n",
    "    coords_reco = edisp_map.sample_coord(coords, migra_oversampling=1)\n",
    "    return coords_reco[\"energy\"]"
   ]
  },
  {
   "cell_type": "markdown",
   "metadata": {},
   "source": [
    "# Diagonal energy dispersion"
   ]
  },
  {
   "cell_type": "code",
   "execution_count": 7,
   "metadata": {},
   "outputs": [],
   "source": [
    "edisp_map_diag = EDispMap.from_diagonal_response(energy_axis_true=E_TRUE_AXIS, migra_axis=MIGRA_AXIS)"
   ]
  },
  {
   "cell_type": "code",
   "execution_count": 8,
   "metadata": {},
   "outputs": [],
   "source": [
    "e_reco_events_diag = sample_events_e_reco(edisp_map=edisp_map_diag)"
   ]
  },
  {
   "cell_type": "code",
   "execution_count": 9,
   "metadata": {},
   "outputs": [],
   "source": [
    "e_reco = MapAxis.from_energy_bounds(\"0.4 TeV\", \"2 TeV\", nbin=10, per_decade=True).edges\n",
    "edisp_kernel_diag = edisp_map_diag.get_edisp_kernel(\n",
    "    e_reco=e_reco, position=SkyCoord(0, 0, unit=\"deg\", frame=\"galactic\")\n",
    ")\n"
   ]
  },
  {
   "cell_type": "code",
   "execution_count": 10,
   "metadata": {},
   "outputs": [
    {
     "name": "stdout",
     "output_type": "stream",
     "text": [
      "E_true      : 1.0644 TeV\n",
      "Mean samples: 1.0644 TeV\n",
      "Mean PDF    : 1.1256 TeV\n"
     ]
    },
    {
     "data": {
      "image/png": "[encoded data removed]",
      "text/plain": [
       "<Figure size 864x576 with 1 Axes>"
      ]
     },
     "metadata": {
      "needs_background": "light"
     },
     "output_type": "display_data"
    }
   ],
   "source": [
    "plot_edisp_comparison(e_reco_events_diag, edisp_kernel_diag)"
   ]
  },
  {
   "cell_type": "markdown",
   "metadata": {},
   "source": [
    "## Gaussian energy dispersion\n",
    "\n",
    "Define a Gaussian edisp which is independent of offset:"
   ]
  },
  {
   "cell_type": "code",
   "execution_count": 11,
   "metadata": {},
   "outputs": [],
   "source": [
    "edisp_gauss = EnergyDispersion2D.from_gauss(\n",
    "    e_true=E_TRUE_AXIS.edges, migra=MIGRA_AXIS.edges, sigma=0.1, bias=0, offset=[0, 2, 4, 6, 8] * u.deg\n",
    ")"
   ]
  },
  {
   "cell_type": "code",
   "execution_count": 12,
   "metadata": {},
   "outputs": [
    {
     "name": "stderr",
     "output_type": "stream",
     "text": [
      "WARNING: AstropyDeprecationWarning: The truth value of a Quantity is ambiguous. In the future this will raise a ValueError. [astropy.units.quantity]\n"
     ]
    }
   ],
   "source": [
    "edisp_map_gauss = make_edisp_map(edisp=edisp_gauss)"
   ]
  },
  {
   "cell_type": "markdown",
   "metadata": {},
   "source": [
    "Now we sample the reconstructed energies, assuming a true energy of `E_TRUE`:"
   ]
  },
  {
   "cell_type": "code",
   "execution_count": 13,
   "metadata": {},
   "outputs": [],
   "source": [
    "e_reco_events_gauss = sample_events_e_reco(edisp_map=edisp_map_gauss)"
   ]
  },
  {
   "cell_type": "markdown",
   "metadata": {},
   "source": [
    "Now we compute the edisp kernel and extract the PDF at the given true energy:"
   ]
  },
  {
   "cell_type": "code",
   "execution_count": 14,
   "metadata": {},
   "outputs": [],
   "source": [
    "e_reco = MapAxis.from_energy_bounds(\"0.4 TeV\", \"2 TeV\", nbin=41, per_decade=True).edges\n",
    "edisp_kernel_gauss = edisp_map_gauss.get_edisp_kernel(\n",
    "    e_reco=e_reco, position=SkyCoord(0, 0, unit=\"deg\", frame=\"galactic\")\n",
    ")"
   ]
  },
  {
   "cell_type": "markdown",
   "metadata": {},
   "source": [
    "Finally we plot the comparison:"
   ]
  },
  {
   "cell_type": "code",
   "execution_count": 15,
   "metadata": {},
   "outputs": [
    {
     "name": "stdout",
     "output_type": "stream",
     "text": [
      "E_true      : 1.0644 TeV\n",
      "Mean samples: 1.0643 TeV\n",
      "Mean PDF    : 1.0647 TeV\n"
     ]
    },
    {
     "data": {
      "image/png": "[encoded data removed]",
      "text/plain": [
       "<Figure size 864x576 with 1 Axes>"
      ]
     },
     "metadata": {
      "needs_background": "light"
     },
     "output_type": "display_data"
    }
   ],
   "source": [
    "plot_edisp_comparison(e_reco_events_gauss, edisp_kernel_gauss)"
   ]
  },
  {
   "cell_type": "markdown",
   "metadata": {},
   "source": [
    "A few things are immediately clear:\n",
    "- We should use oversampling in migra, when drawing events or distribute the events linearly (not uniformly) in the migra bin\n",
    "- The sampled distribution is shifted by 0.5 migra bin to the left\n",
    "- The integrated PDF is also shifted (probably by 0.5 and upsampled migra bin?) to the left"
   ]
  },
  {
   "cell_type": "markdown",
   "metadata": {},
   "source": [
    "## CTA energy dispersion"
   ]
  },
  {
   "cell_type": "code",
   "execution_count": 16,
   "metadata": {},
   "outputs": [
    {
     "name": "stderr",
     "output_type": "stream",
     "text": [
      "WARNING: AstropyDeprecationWarning: The truth value of a Quantity is ambiguous. In the future this will raise a ValueError. [astropy.units.quantity]\n"
     ]
    }
   ],
   "source": [
    "edisp_cta = load_cta_irfs(IRF_FILE)[\"edisp\"]\n",
    "edisp_map_cta = make_edisp_map(edisp=edisp_cta)\n",
    "e_reco_events_cta = sample_events_e_reco(edisp_map=edisp_map_cta)"
   ]
  },
  {
   "cell_type": "code",
   "execution_count": 17,
   "metadata": {},
   "outputs": [],
   "source": [
    "e_reco = MapAxis.from_energy_bounds(\"0.4 TeV\", \"2 TeV\", nbin=40, per_decade=True).edges\n",
    "edisp_kernel_cta = edisp_map_cta.get_edisp_kernel(\n",
    "    e_reco=e_reco, position=SkyCoord(0, 0, unit=\"deg\", frame=\"galactic\")\n",
    ")"
   ]
  },
  {
   "cell_type": "code",
   "execution_count": 18,
   "metadata": {},
   "outputs": [
    {
     "name": "stdout",
     "output_type": "stream",
     "text": [
      "E_true      : 1.0644 TeV\n",
      "Mean samples: 1.0603 TeV\n",
      "Mean PDF    : 1.0601 TeV\n"
     ]
    },
    {
     "data": {
      "image/png": "[encoded data removed]",
      "text/plain": [
       "<Figure size 864x576 with 1 Axes>"
      ]
     },
     "metadata": {
      "needs_background": "light"
     },
     "output_type": "display_data"
    }
   ],
   "source": [
    "plot_edisp_comparison(e_reco_events_cta, edisp_kernel_cta)"
   ]
  },
  {
   "cell_type": "markdown",
   "metadata": {},
   "source": [
    "Conclusions for the CTA edisp:\n",
    "- The default migra binning we have in Gammapy is too coarse\n",
    "- What about the outlier on the left???"
   ]
  },
  {
   "cell_type": "markdown",
   "metadata": {},
   "source": [
    "# HESS Energy Dispersion"
   ]
  },
  {
   "cell_type": "code",
   "execution_count": 19,
   "metadata": {},
   "outputs": [],
   "source": [
    "from gammapy.data import DataStore"
   ]
  },
  {
   "cell_type": "code",
   "execution_count": 20,
   "metadata": {},
   "outputs": [],
   "source": [
    "datastore = DataStore.from_dir(\"$GAMMAPY_DATA/hess-dl3-dr1\")\n",
    "observations = datastore.get_observations([23592, 23559])"
   ]
  },
  {
   "cell_type": "code",
   "execution_count": 21,
   "metadata": {},
   "outputs": [],
   "source": [
    "edisp_hess = observations[0].edisp"
   ]
  },
  {
   "cell_type": "code",
   "execution_count": 22,
   "metadata": {},
   "outputs": [
    {
     "name": "stderr",
     "output_type": "stream",
     "text": [
      "WARNING: AstropyDeprecationWarning: The truth value of a Quantity is ambiguous. In the future this will raise a ValueError. [astropy.units.quantity]\n"
     ]
    }
   ],
   "source": [
    "edisp_map_hess = make_edisp_map(edisp=edisp_hess)\n",
    "e_reco_events_hess = sample_events_e_reco(edisp_map=edisp_map_hess)"
   ]
  },
  {
   "cell_type": "code",
   "execution_count": 23,
   "metadata": {},
   "outputs": [],
   "source": [
    "e_reco = MapAxis.from_energy_bounds(\"0.1 TeV\", \"10 TeV\", nbin=50, per_decade=True).edges\n",
    "edisp_kernel_hess = edisp_map_hess.get_edisp_kernel(\n",
    "    e_reco=e_reco, position=SkyCoord(0, 0, unit=\"deg\", frame=\"galactic\")\n",
    ")"
   ]
  },
  {
   "cell_type": "code",
   "execution_count": 24,
   "metadata": {},
   "outputs": [
    {
     "name": "stdout",
     "output_type": "stream",
     "text": [
      "E_true      : 1.0644 TeV\n",
      "Mean samples: 1.1160 TeV\n",
      "Mean PDF    : 1.1161 TeV\n"
     ]
    },
    {
     "data": {
      "image/png": "[encoded data removed]",
      "text/plain": [
       "<Figure size 864x576 with 1 Axes>"
      ]
     },
     "metadata": {
      "needs_background": "light"
     },
     "output_type": "display_data"
    }
   ],
   "source": [
    "plot_edisp_comparison(e_reco_events_hess, edisp_kernel_hess)"
   ]
  }
 ],
 "metadata": {
  "kernelspec": {
   "display_name": "Python 3",
   "language": "python",
   "name": "python3"
  },
  "language_info": {
   "codemirror_mode": {
    "name": "ipython",
    "version": 3
   },
   "file_extension": ".py",
   "mimetype": "text/x-python",
   "name": "python",
   "nbconvert_exporter": "python",
   "pygments_lexer": "ipython3",
   "version": "3.7.0"
  }
 },
 "nbformat": 4,
 "nbformat_minor": 2
}
