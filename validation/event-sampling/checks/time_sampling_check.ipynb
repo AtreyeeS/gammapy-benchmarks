{
 "cells": [
  {
   "cell_type": "markdown",
   "metadata": {},
   "source": [
    "### Background checks\n",
    "\n",
    "This nootebook tests the sampling of the background. We simulate only the background and we then fit it, leaving the tilt and normalization parameters free to vary."
   ]
  },
  {
   "cell_type": "code",
   "execution_count": 2,
   "metadata": {},
   "outputs": [
    {
     "name": "stdout",
     "output_type": "stream",
     "text": [
      "/Users/fabio/LAVORO/CTA/GAMMAPY/GIT/gammapy-benchmarks/validation/event-sampling\n"
     ]
    }
   ],
   "source": [
    "cd .."
   ]
  },
  {
   "cell_type": "code",
   "execution_count": 3,
   "metadata": {},
   "outputs": [],
   "source": [
    "import make"
   ]
  },
  {
   "cell_type": "code",
   "execution_count": 1,
   "metadata": {},
   "outputs": [],
   "source": [
    "from pathlib import Path\n",
    "import logging\n",
    "import warnings\n",
    "import click\n",
    "import multiprocessing\n",
    "from itertools import repeat\n",
    "\n",
    "import numpy as np\n",
    "from scipy.stats import norm\n",
    "import matplotlib.pyplot as plt\n",
    "import astropy.units as u\n",
    "from astropy.convolution import Tophat2DKernel\n",
    "from astropy.coordinates import SkyCoord\n",
    "from astropy.table import Table\n",
    "from gammapy.data import GTI, Observation, EventList\n",
    "from gammapy.datasets import MapDataset, MapDatasetEventSampler\n",
    "from gammapy.estimators import LiMaMapEstimator as lima\n",
    "from gammapy.maps import MapAxis, WcsGeom, Map\n",
    "from gammapy.irf import EnergyDispersion2D, load_cta_irfs\n",
    "from gammapy.makers import MapDatasetMaker\n",
    "from gammapy.estimators import ImageProfile, ImageProfileEstimator\n",
    "from gammapy.modeling import Fit\n",
    "from gammapy.modeling.models import Models\n",
    "from gammapy.utils.table import table_from_row_data\n",
    "from regions import CircleSkyRegion\n",
    "\n",
    "from gammapy.modeling.models import Model, Models, SkyModel, PowerLawSpectralModel, PointSpatialModel\n",
    "\n",
    "import copy\n",
    "from gammapy.maps import MapCoord\n",
    "from gammapy.modeling.models import BackgroundModel, ConstantTemporalModel, LightCurveTemplateTemporalModel\n",
    "from gammapy.utils.random import get_random_state\n",
    "import yaml\n",
    "\n",
    "from astropy.time import Time\n",
    "from gammapy.utils.random import InverseCDFSampler\n"
   ]
  },
  {
   "cell_type": "code",
   "execution_count": 4,
   "metadata": {},
   "outputs": [],
   "source": [
    "BASE_PATH = Path(\"make.py\").parent"
   ]
  },
  {
   "cell_type": "code",
   "execution_count": 5,
   "metadata": {},
   "outputs": [],
   "source": [
    "model=\"point-pwl-time\"\n",
    "LIVETIME = 8 * u.hr\n",
    "filename_dataset = make.get_filename_dataset(LIVETIME)\n",
    "filename_model =  BASE_PATH / f\"models/{model}.yaml\""
   ]
  },
  {
   "cell_type": "markdown",
   "metadata": {},
   "source": [
    "### SIMULATE THE EVENTS"
   ]
  },
  {
   "cell_type": "code",
   "execution_count": 6,
   "metadata": {},
   "outputs": [
    {
     "name": "stderr",
     "output_type": "stream",
     "text": [
      "WARNING: AstropyDeprecationWarning: The truth value of a Quantity is ambiguous. In the future this will raise a ValueError. [astropy.units.quantity]\n"
     ]
    }
   ],
   "source": [
    "make.simulate_events(filename_model,filename_dataset,100)"
   ]
  },
  {
   "cell_type": "markdown",
   "metadata": {},
   "source": [
    "### COMPARE EVENT TIMES WITH THE SIMULATED LIGHT CURVE"
   ]
  },
  {
   "cell_type": "code",
   "execution_count": 9,
   "metadata": {},
   "outputs": [],
   "source": [
    "model = 'point-pwl-time'\n",
    "obsid=0\n",
    "filename_events = (BASE_PATH / f\"data/models/{model}/events_{LIVETIME.value:.0f}{LIVETIME.unit}_{obsid:04d}.fits.gz\")\n",
    "events = EventList.read(filename_events)"
   ]
  },
  {
   "cell_type": "code",
   "execution_count": 10,
   "metadata": {},
   "outputs": [],
   "source": [
    "src = events.table[np.where(events.table['MC_ID'] == 2)]"
   ]
  },
  {
   "cell_type": "code",
   "execution_count": 11,
   "metadata": {},
   "outputs": [
    {
     "data": {
      "text/plain": [
       "16988"
      ]
     },
     "execution_count": 11,
     "metadata": {},
     "output_type": "execute_result"
    }
   ],
   "source": [
    "len(src)"
   ]
  },
  {
   "cell_type": "code",
   "execution_count": 12,
   "metadata": {},
   "outputs": [],
   "source": [
    "times = src['TIME']"
   ]
  },
  {
   "cell_type": "code",
   "execution_count": 15,
   "metadata": {},
   "outputs": [
    {
     "name": "stderr",
     "output_type": "stream",
     "text": [
      "/anaconda2/envs/gammapy-dev/lib/python3.7/site-packages/ipykernel_launcher.py:4: RuntimeWarning: divide by zero encountered in true_divide\n",
      "  after removing the cwd from sys.path.\n"
     ]
    },
    {
     "data": {
      "text/plain": [
       "[<matplotlib.lines.Line2D at 0x1023c76d8>]"
      ]
     },
     "execution_count": 15,
     "metadata": {},
     "output_type": "execute_result"
    },
    {
     "data": {
      "image/png": "[encoded data removed]",
      "text/plain": [
       "<Figure size 432x288 with 1 Axes>"
      ]
     },
     "metadata": {
      "needs_background": "light"
     },
     "output_type": "display_data"
    }
   ],
   "source": [
    "# curve = np.histogram(times,bins=np.logspace(2,4.5,30))\n",
    "curve = np.histogram(times, bins=np.linspace(0,3e4,60))\n",
    "\n",
    "rate = curve[0]/np.linspace(0,3e4,60)[:-1]\n",
    "\n",
    "plt.plot(curve[1][:-1],rate)\n",
    "plt.plot(time,norm)\n",
    "# plt.loglog()"
   ]
  },
  {
   "cell_type": "code",
   "execution_count": 16,
   "metadata": {},
   "outputs": [],
   "source": [
    "def f(x, a, tau,c):\n",
    "    return c+a*np.exp(-(x/tau))"
   ]
  },
  {
   "cell_type": "code",
   "execution_count": null,
   "metadata": {},
   "outputs": [],
   "source": []
  },
  {
   "cell_type": "code",
   "execution_count": 17,
   "metadata": {},
   "outputs": [
    {
     "name": "stdout",
     "output_type": "stream",
     "text": [
      "############\n",
      "This is the norm: 0.2263995749254916 +\\- 0.021195737977578344\n",
      "This is the tau: 4547.594551342715 +\\- 284.8292066169259\n",
      "This is the constant: 0.008640578695136267 +\\- 0.0006598713721083435\n",
      "############\n"
     ]
    }
   ],
   "source": [
    "from scipy.optimize import curve_fit\n",
    "\n",
    "init_vals = [1, 2000, 0]\n",
    "best_vals, covar = curve_fit(f, curve[1][1:-4], \n",
    "                             rate[1:-3], \n",
    "                             p0=init_vals, \n",
    "                             sigma=((curve[0][1:-3])**0.5/np.linspace(0,3e4,60)[1:-4]))\n",
    "\n",
    "print(\"############\")\n",
    "print(f\"This is the norm: {best_vals[0]} +\\- {covar[0,0]**0.5}\")\n",
    "print(f\"This is the tau: {best_vals[1]} +\\- {covar[1,1]**0.5}\")\n",
    "print(f\"This is the constant: {best_vals[2]} +\\- {covar[2,2]**0.5}\")\n",
    "print(\"############\")"
   ]
  },
  {
   "cell_type": "code",
   "execution_count": 18,
   "metadata": {},
   "outputs": [
    {
     "data": {
      "text/plain": [
       "[<matplotlib.lines.Line2D at 0x11443ed30>]"
      ]
     },
     "execution_count": 18,
     "metadata": {},
     "output_type": "execute_result"
    },
    {
     "data": {
      "image/png": "[encoded data removed]",
      "text/plain": [
       "<Figure size 432x288 with 1 Axes>"
      ]
     },
     "metadata": {
      "needs_background": "light"
     },
     "output_type": "display_data"
    }
   ],
   "source": [
    "plt.errorbar(curve[1][:-1],rate, yerr=((curve[0])**0.5/np.linspace(0,3e4,60)[1:]))\n",
    "plt.plot(curve[1][:-1], f(curve[1][:-1], *best_vals))"
   ]
  },
  {
   "cell_type": "code",
   "execution_count": null,
   "metadata": {},
   "outputs": [],
   "source": []
  },
  {
   "cell_type": "code",
   "execution_count": null,
   "metadata": {},
   "outputs": [],
   "source": []
  },
  {
   "cell_type": "code",
   "execution_count": null,
   "metadata": {},
   "outputs": [],
   "source": []
  },
  {
   "cell_type": "code",
   "execution_count": null,
   "metadata": {},
   "outputs": [],
   "source": []
  },
  {
   "cell_type": "markdown",
   "metadata": {},
   "source": [
    "#### Check metadata"
   ]
  },
  {
   "cell_type": "code",
   "execution_count": 25,
   "metadata": {},
   "outputs": [
    {
     "ename": "NameError",
     "evalue": "name 'Checker' is not defined",
     "output_type": "error",
     "traceback": [
      "\u001b[0;31m---------------------------------------------------------------------------\u001b[0m",
      "\u001b[0;31mNameError\u001b[0m                                 Traceback (most recent call last)",
      "\u001b[0;32m<ipython-input-25-2158c2552867>\u001b[0m in \u001b[0;36m<module>\u001b[0;34m\u001b[0m\n\u001b[0;32m----> 1\u001b[0;31m \u001b[0;32mclass\u001b[0m \u001b[0mEventListChecker\u001b[0m\u001b[0;34m(\u001b[0m\u001b[0mChecker\u001b[0m\u001b[0;34m)\u001b[0m\u001b[0;34m:\u001b[0m\u001b[0;34m\u001b[0m\u001b[0m\n\u001b[0m\u001b[1;32m      2\u001b[0m     \"\"\"Event list checker.\n\u001b[1;32m      3\u001b[0m \u001b[0;34m\u001b[0m\u001b[0m\n\u001b[1;32m      4\u001b[0m     \u001b[0mData\u001b[0m \u001b[0mformat\u001b[0m \u001b[0mspecification\u001b[0m\u001b[0;34m:\u001b[0m \u001b[0mref\u001b[0m\u001b[0;34m:\u001b[0m\u001b[0;31m`\u001b[0m\u001b[0mgadf\u001b[0m\u001b[0;34m:\u001b[0m\u001b[0miact\u001b[0m\u001b[0;34m-\u001b[0m\u001b[0mevents\u001b[0m\u001b[0;31m`\u001b[0m\u001b[0;34m\u001b[0m\u001b[0m\n\u001b[1;32m      5\u001b[0m \u001b[0;34m\u001b[0m\u001b[0m\n",
      "\u001b[0;31mNameError\u001b[0m: name 'Checker' is not defined"
     ]
    }
   ],
   "source": [
    "class EventListChecker(Checker):\n",
    "    \"\"\"Event list checker.\n",
    "\n",
    "    Data format specification: ref:`gadf:iact-events`\n",
    "\n",
    "    Parameters\n",
    "    ----------\n",
    "    event_list : `~gammapy.data.EventList`\n",
    "        Event list\n",
    "    \"\"\"\n",
    "\n",
    "    def __init__(self, Checker):\n",
    "        self.Checker = Checker    \n",
    "\n",
    "    CHECKS = {\n",
    "        \"meta\": \"check_meta\",\n",
    "        \"columns\": \"check_columns\",\n",
    "        \"times\": \"check_times\",\n",
    "        \"coordinates_galactic\": \"check_coordinates_galactic\",\n",
    "        \"coordinates_altaz\": \"check_coordinates_altaz\",\n",
    "    }\n",
    "\n",
    "    accuracy = {\"angle\": Angle(\"1 arcsec\"), \"time\": Quantity(1, \"microsecond\")}\n",
    "\n",
    "    # https://gamma-astro-data-formats.readthedocs.io/en/latest/events/events.html#mandatory-header-keywords\n",
    "    meta_required = [\n",
    "        \"HDUCLASS\",\n",
    "        \"HDUDOC\",\n",
    "        \"HDUVERS\",\n",
    "        \"HDUCLAS1\",\n",
    "        \"OBS_ID\",\n",
    "        \"TSTART\",\n",
    "        \"TSTOP\",\n",
    "        \"ONTIME\",\n",
    "        \"LIVETIME\",\n",
    "        \"DEADC\",\n",
    "        \"RA_PNT\",\n",
    "        \"DEC_PNT\",\n",
    "        # TODO: what to do about these?\n",
    "        # They are currently listed as required in the spec,\n",
    "        # but I think we should just require ICRS and those\n",
    "        # are irrelevant, should not be used.\n",
    "        # 'RADECSYS',\n",
    "        # 'EQUINOX',\n",
    "        \"ORIGIN\",\n",
    "        \"TELESCOP\",\n",
    "        \"INSTRUME\",\n",
    "        \"CREATOR\",\n",
    "        # https://gamma-astro-data-formats.readthedocs.io/en/latest/general/time.html#time-formats\n",
    "        \"MJDREFI\",\n",
    "        \"MJDREFF\",\n",
    "        \"TIMEUNIT\",\n",
    "        \"TIMESYS\",\n",
    "        \"TIMEREF\",\n",
    "        # https://gamma-astro-data-formats.readthedocs.io/en/latest/general/coordinates.html#coords-location\n",
    "        \"GEOLON\",\n",
    "        \"GEOLAT\",\n",
    "        \"ALTITUDE\",\n",
    "    ]\n",
    "\n",
    "    _col = collections.namedtuple(\"col\", [\"name\", \"unit\"])\n",
    "    columns_required = [\n",
    "        _col(name=\"EVENT_ID\", unit=\"\"),\n",
    "        _col(name=\"TIME\", unit=\"s\"),\n",
    "        _col(name=\"RA\", unit=\"deg\"),\n",
    "        _col(name=\"DEC\", unit=\"deg\"),\n",
    "        _col(name=\"ENERGY\", unit=\"TeV\"),\n",
    "    ]\n",
    "\n",
    "    def __init__(self, event_list):\n",
    "        self.event_list = event_list\n",
    "\n",
    "    def _record(self, level=\"info\", msg=None):\n",
    "        obs_id = self.event_list.table.meta[\"OBS_ID\"]\n",
    "        return {\"level\": level, \"obs_id\": obs_id, \"msg\": msg}\n",
    "\n",
    "    def check_meta(self):\n",
    "        meta_missing = sorted(set(self.meta_required) - set(self.event_list.table.meta))\n",
    "        if meta_missing:\n",
    "            yield self._record(\n",
    "                level=\"error\", msg=f\"Missing meta keys: {meta_missing!r}\"\n",
    "            )\n",
    "\n",
    "    def check_columns(self):\n",
    "        t = self.event_list.table\n",
    "\n",
    "        if len(t) == 0:\n",
    "            yield self._record(level=\"error\", msg=\"Events table has zero rows\")\n",
    "\n",
    "        for name, unit in self.columns_required:\n",
    "            if name not in t.colnames:\n",
    "                yield self._record(level=\"error\", msg=f\"Missing table column: {name!r}\")\n",
    "            else:\n",
    "                if Unit(unit) != (t[name].unit or \"\"):\n",
    "                    yield self._record(\n",
    "                        level=\"error\", msg=f\"Invalid unit for column: {name!r}\"\n",
    "                    )\n",
    "\n",
    "    def check_times(self):\n",
    "        dt = (self.event_list.time - self.event_list.observation_time_start).sec\n",
    "        if dt.min() < self.accuracy[\"time\"].to_value(\"s\"):\n",
    "            yield self._record(level=\"error\", msg=\"Event times before obs start time\")\n",
    "\n",
    "        dt = (self.event_list.time - self.event_list.observation_time_end).sec\n",
    "        if dt.max() > self.accuracy[\"time\"].to_value(\"s\"):\n",
    "            yield self._record(level=\"error\", msg=\"Event times after the obs end time\")\n",
    "\n",
    "        if np.min(np.diff(dt)) <= 0:\n",
    "            yield self._record(level=\"error\", msg=\"Events are not time-ordered.\")\n",
    "\n",
    "    def check_coordinates_galactic(self):\n",
    "        \"\"\"Check if RA / DEC matches GLON / GLAT.\"\"\"\n",
    "        t = self.event_list.table\n",
    "\n",
    "        if \"GLON\" not in t.colnames:\n",
    "            return\n",
    "\n",
    "        galactic = SkyCoord(t[\"GLON\"], t[\"GLAT\"], unit=\"deg\", frame=\"galactic\")\n",
    "        separation = self.event_list.radec.separation(galactic).to(\"arcsec\")\n",
    "        if separation.max() > self.accuracy[\"angle\"]:\n",
    "            yield self._record(\n",
    "                level=\"error\", msg=\"GLON / GLAT not consistent with RA / DEC\"\n",
    "            )\n",
    "\n",
    "    def check_coordinates_altaz(self):\n",
    "        \"\"\"Check if ALT / AZ matches RA / DEC.\"\"\"\n",
    "        t = self.event_list.table\n",
    "\n",
    "        if \"AZ\" not in t.colnames:\n",
    "            return\n",
    "\n",
    "        altaz_astropy = self.event_list.altaz\n",
    "        separation = angular_separation(\n",
    "            altaz_astropy.data.lon,\n",
    "            altaz_astropy.data.lat,\n",
    "            t[\"AZ\"].quantity,\n",
    "            t[\"ALT\"].quantity,\n",
    "        )\n",
    "        if separation.max() > self.accuracy[\"angle\"]:\n",
    "            yield self._record(\n",
    "                level=\"error\", msg=\"ALT / AZ not consistent with RA / DEC\"\n",
    "            )\n"
   ]
  },
  {
   "cell_type": "code",
   "execution_count": 26,
   "metadata": {},
   "outputs": [],
   "source": [
    "from gammapy.data import EventList, EventListBase"
   ]
  },
  {
   "cell_type": "code",
   "execution_count": 38,
   "metadata": {},
   "outputs": [],
   "source": [
    "r = EventListBase(filename_events)\n",
    "evt = r.read(filename_events)"
   ]
  },
  {
   "cell_type": "code",
   "execution_count": 52,
   "metadata": {},
   "outputs": [],
   "source": [
    "tab = EventList.read(filename_events)"
   ]
  },
  {
   "cell_type": "code",
   "execution_count": 53,
   "metadata": {},
   "outputs": [
    {
     "data": {
      "text/plain": [
       "<generator object Checker.run at 0x125204e58>"
      ]
     },
     "execution_count": 53,
     "metadata": {},
     "output_type": "execute_result"
    }
   ],
   "source": [
    "tab.check()"
   ]
  },
  {
   "cell_type": "code",
   "execution_count": null,
   "metadata": {},
   "outputs": [],
   "source": []
  },
  {
   "cell_type": "code",
   "execution_count": null,
   "metadata": {},
   "outputs": [],
   "source": []
  },
  {
   "cell_type": "code",
   "execution_count": null,
   "metadata": {},
   "outputs": [],
   "source": []
  },
  {
   "cell_type": "markdown",
   "metadata": {},
   "source": [
    "### TOOLS"
   ]
  },
  {
   "cell_type": "markdown",
   "metadata": {},
   "source": [
    "#### Create the skymodel"
   ]
  },
  {
   "cell_type": "code",
   "execution_count": 21,
   "metadata": {},
   "outputs": [],
   "source": [
    "spectral_model = PowerLawSpectralModel(index=2,amplitude=\"1e-12 TeV-1 cm-2 s-1\", reference='1 TeV')"
   ]
  },
  {
   "cell_type": "code",
   "execution_count": 22,
   "metadata": {},
   "outputs": [],
   "source": [
    "spatial_model = PointSpatialModel(lon_0= \"0 deg\", lat_0=\"0 deg\", frame='galactic')"
   ]
  },
  {
   "cell_type": "code",
   "execution_count": 23,
   "metadata": {},
   "outputs": [],
   "source": [
    "sky_model = SkyModel(spectral_model=spectral_model, spatial_model=spatial_model)"
   ]
  },
  {
   "cell_type": "code",
   "execution_count": 25,
   "metadata": {},
   "outputs": [
    {
     "name": "stdout",
     "output_type": "stream",
     "text": [
      "None\n"
     ]
    }
   ],
   "source": [
    "print(sky_model.temporal_model)"
   ]
  },
  {
   "cell_type": "code",
   "execution_count": 14,
   "metadata": {},
   "outputs": [
    {
     "data": {
      "text/plain": [
       "[<matplotlib.lines.Line2D at 0x1143282b0>]"
      ]
     },
     "execution_count": 14,
     "metadata": {},
     "output_type": "execute_result"
    },
    {
     "data": {
      "image/png": "[encoded data removed]",
      "text/plain": [
       "<Figure size 432x288 with 1 Axes>"
      ]
     },
     "metadata": {
      "needs_background": "light"
     },
     "output_type": "display_data"
    }
   ],
   "source": [
    "def rate(x, c=\"2e3 s\"):\n",
    "    c = u.Quantity(c)\n",
    "    return np.exp(-x / c)\n",
    "\n",
    "\n",
    "time = np.arange(3e4) * u.s\n",
    "norm = rate(time)\n",
    "plt.plot(time,norm)\n",
    "# plt.loglog()\n",
    "# plt.ylim(1e-1,1.1)"
   ]
  },
  {
   "cell_type": "code",
   "execution_count": null,
   "metadata": {},
   "outputs": [],
   "source": []
  },
  {
   "cell_type": "code",
   "execution_count": 89,
   "metadata": {},
   "outputs": [],
   "source": [
    "table = Table()\n",
    "table[\"TIME\"] = time\n",
    "table[\"NORM\"] = norm\n",
    "table.meta = dict(MJDREFI=55197.0, MJDREFF=0, TIMEUNIT=\"s\")\n",
    "temporal_model = LightCurveTemplateTemporalModel(table)\n",
    "\n",
    "filename = BASE_PATH / \"models/lc.fits\"\n",
    "temporal_model.write(path=filename, overwrite=True)"
   ]
  },
  {
   "cell_type": "code",
   "execution_count": 90,
   "metadata": {},
   "outputs": [],
   "source": [
    "sky_model = SkyModel(spectral_model=spectral_model, spatial_model=spatial_model, temporal_model=temporal_model)"
   ]
  },
  {
   "cell_type": "code",
   "execution_count": 91,
   "metadata": {},
   "outputs": [],
   "source": [
    "models = Models([sky_model])"
   ]
  },
  {
   "cell_type": "code",
   "execution_count": 92,
   "metadata": {},
   "outputs": [],
   "source": [
    "file_model = (BASE_PATH / \"models/point-pwl-time.yaml\")\n",
    "models.write(file_model, overwrite=True)"
   ]
  },
  {
   "cell_type": "code",
   "execution_count": null,
   "metadata": {},
   "outputs": [],
   "source": []
  },
  {
   "cell_type": "code",
   "execution_count": null,
   "metadata": {},
   "outputs": [],
   "source": []
  },
  {
   "cell_type": "markdown",
   "metadata": {},
   "source": [
    "#### TEST"
   ]
  },
  {
   "cell_type": "code",
   "execution_count": 93,
   "metadata": {},
   "outputs": [],
   "source": [
    "filename_dataset = BASE_PATH / \"data/dataset_8h.fits.gz\"\n",
    "dataset = MapDataset.read(filename_dataset)"
   ]
  },
  {
   "cell_type": "code",
   "execution_count": 95,
   "metadata": {},
   "outputs": [],
   "source": [
    "filename_model = BASE_PATH / \"models/point-pwl-time.yaml\"\n",
    "models = Models.read(filename_model)\n",
    "dataset.models.extend(models)\n",
    "model=dataset.models[1]\n",
    "evaluator = dataset.evaluators.get(model.name)\n",
    "evaluator = copy.deepcopy(evaluator)\n",
    "evaluator.model.apply_irf[\"psf\"] = False\n",
    "evaluator.model.apply_irf[\"edisp\"] = False\n",
    "npred = evaluator.compute_npred()\n"
   ]
  },
  {
   "cell_type": "code",
   "execution_count": 96,
   "metadata": {},
   "outputs": [],
   "source": [
    "temporal_model = dataset.models[1].temporal_model"
   ]
  },
  {
   "cell_type": "code",
   "execution_count": 97,
   "metadata": {},
   "outputs": [
    {
     "name": "stdout",
     "output_type": "stream",
     "text": [
      "LightCurveTemplateTemporalModel model summary:\n",
      "Start time: 55197.0 MJD\n",
      "End time: 55197.34721064815 MJD\n",
      "Norm min: 3.060553099062407e-07\n",
      "Norm max: 1.0\n",
      "\n"
     ]
    }
   ],
   "source": [
    "print(temporal_model)"
   ]
  },
  {
   "cell_type": "code",
   "execution_count": 98,
   "metadata": {},
   "outputs": [
    {
     "name": "stderr",
     "output_type": "stream",
     "text": [
      "WARNING: AstropyDeprecationWarning: The truth value of a Quantity is ambiguous. In the future this will raise a ValueError. [astropy.units.quantity]\n"
     ]
    }
   ],
   "source": [
    "obsid=0\n",
    "irfs = load_cta_irfs(make.IRF_FILE)\n",
    "observation = Observation.create(\n",
    "    obs_id=obsid, pointing=make.POINTING, livetime=make.LIVETIME, irfs=irfs\n",
    ")\n",
    "\n",
    "sampler = MapDatasetEventSampler(random_state=0)"
   ]
  },
  {
   "cell_type": "code",
   "execution_count": 99,
   "metadata": {},
   "outputs": [],
   "source": [
    "n_events = sampler.random_state.poisson(np.sum(npred.data))\n",
    "\n",
    "coords = npred.sample_coord(n_events=n_events, random_state=sampler.random_state)"
   ]
  },
  {
   "cell_type": "code",
   "execution_count": 100,
   "metadata": {},
   "outputs": [],
   "source": [
    "table = Table()\n",
    "try:\n",
    "    energy = coords[\"energy_true\"]\n",
    "except KeyError:\n",
    "    energy = coords[\"energy\"]\n",
    "\n",
    "table[\"ENERGY_TRUE\"] = energy\n",
    "table[\"RA_TRUE\"] = coords.skycoord.icrs.ra.to(\"deg\")\n",
    "table[\"DEC_TRUE\"] = coords.skycoord.icrs.dec.to(\"deg\")"
   ]
  },
  {
   "cell_type": "code",
   "execution_count": 101,
   "metadata": {},
   "outputs": [],
   "source": [
    "time_start, time_stop, time_ref = (dataset.gti.time_start, dataset.gti.time_stop, dataset.gti.time_ref)"
   ]
  },
  {
   "cell_type": "code",
   "execution_count": 117,
   "metadata": {},
   "outputs": [],
   "source": [
    "time = temporal_model.sample_time(\n",
    "    n_events=n_events, t_min=time_start, t_max=time_stop, t_delta='100 s', random_state=sampler.random_state\n",
    ")\n",
    "table[\"TIME\"] = u.Quantity(((time.mjd - time_ref.mjd) * u.day).to(u.s)).to(\"s\")"
   ]
  },
  {
   "cell_type": "code",
   "execution_count": 126,
   "metadata": {},
   "outputs": [
    {
     "data": {
      "text/plain": [
       "(0.0, 57.40000000018627)"
      ]
     },
     "execution_count": 126,
     "metadata": {},
     "output_type": "execute_result"
    }
   ],
   "source": [
    "min(table[\"TIME\"]), max(table[\"TIME\"])/500"
   ]
  },
  {
   "cell_type": "code",
   "execution_count": 142,
   "metadata": {},
   "outputs": [
    {
     "data": {
      "image/png": "[encoded data removed]",
      "text/plain": [
       "<Figure size 432x288 with 1 Axes>"
      ]
     },
     "metadata": {
      "needs_background": "light"
     },
     "output_type": "display_data"
    }
   ],
   "source": [
    "lc = plt.hist(np.sort(table[\"TIME\"]), bins=np.logspace(0,4.5,50))\n",
    "# plt.loglog()"
   ]
  },
  {
   "cell_type": "code",
   "execution_count": 144,
   "metadata": {},
   "outputs": [
    {
     "data": {
      "text/plain": [
       "array([1.00000000e+00, 1.23548289e+00, 1.52641797e+00, 1.88586328e+00,\n",
       "       2.32995181e+00, 2.87861559e+00, 3.55648031e+00, 4.39397056e+00,\n",
       "       5.42867544e+00, 6.70703561e+00, 8.28642773e+00, 1.02377397e+01,\n",
       "       1.26485522e+01, 1.56270698e+01, 1.93069773e+01, 2.38534401e+01,\n",
       "       2.94705170e+01, 3.64103195e+01, 4.49843267e+01, 5.55773659e+01,\n",
       "       6.86648845e+01, 8.48342898e+01, 1.04811313e+02, 1.29492584e+02,\n",
       "       1.59985872e+02, 1.97659807e+02, 2.44205309e+02, 3.01711481e+02,\n",
       "       3.72759372e+02, 4.60537826e+02, 5.68986603e+02, 7.02973212e+02,\n",
       "       8.68511374e+02, 1.07303094e+03, 1.32571137e+03, 1.63789371e+03,\n",
       "       2.02358965e+03, 2.50011038e+03, 3.08884360e+03, 3.81621341e+03,\n",
       "       4.71486636e+03, 5.82513671e+03, 7.19685673e+03, 8.89159334e+03,\n",
       "       1.09854114e+04, 1.35722878e+04, 1.67683294e+04, 2.07169840e+04,\n",
       "       2.55954792e+04, 3.16227766e+04])"
      ]
     },
     "execution_count": 144,
     "metadata": {},
     "output_type": "execute_result"
    }
   ],
   "source": [
    "np.logspace(0,4.5,50)"
   ]
  },
  {
   "cell_type": "code",
   "execution_count": 145,
   "metadata": {},
   "outputs": [
    {
     "data": {
      "text/plain": [
       "[]"
      ]
     },
     "execution_count": 145,
     "metadata": {},
     "output_type": "execute_result"
    },
    {
     "data": {
      "image/png": "[encoded data removed]",
      "text/plain": [
       "<Figure size 432x288 with 1 Axes>"
      ]
     },
     "metadata": {
      "needs_background": "light"
     },
     "output_type": "display_data"
    }
   ],
   "source": [
    "plt.plot(lc[1][1:],lc[0]/np.logspace(0,4.5,50)[1:])\n",
    "plt.loglog()"
   ]
  },
  {
   "cell_type": "code",
   "execution_count": null,
   "metadata": {},
   "outputs": [],
   "source": []
  },
  {
   "cell_type": "code",
   "execution_count": null,
   "metadata": {},
   "outputs": [],
   "source": []
  },
  {
   "cell_type": "code",
   "execution_count": null,
   "metadata": {},
   "outputs": [],
   "source": []
  },
  {
   "cell_type": "code",
   "execution_count": 63,
   "metadata": {},
   "outputs": [],
   "source": [
    "t_delta='1 s'\n",
    "time_unit = getattr(u, temporal_model.table.meta[\"TIMEUNIT\"])\n",
    "\n",
    "t_min = Time(dataset.gti.time_start)\n",
    "t_max = Time(dataset.gti.time_stop)\n",
    "t_delta = u.Quantity(t_delta)\n",
    "random_state = get_random_state(0)\n",
    "\n",
    "ontime = u.Quantity((t_max - t_min).sec, \"s\")\n",
    "t_stop = ontime.to_value(time_unit)"
   ]
  },
  {
   "cell_type": "code",
   "execution_count": 64,
   "metadata": {},
   "outputs": [],
   "source": [
    "# TODO: the separate time unit handling is unfortunate, but the quantity support for np.arange and np.interp\n",
    "#  is still incomplete, refactor once we change to recent numpy and astropy versions\n",
    "t_step = t_delta.to_value(time_unit)\n",
    "t = np.arange(0, t_stop, t_step)"
   ]
  },
  {
   "cell_type": "code",
   "execution_count": 67,
   "metadata": {},
   "outputs": [],
   "source": [
    "pdf = temporal_model.evaluate(t)"
   ]
  },
  {
   "cell_type": "code",
   "execution_count": 70,
   "metadata": {},
   "outputs": [],
   "source": [
    "sampler = InverseCDFSampler(pdf=pdf, random_state=random_state)\n",
    "time_pix = sampler.sample(n_events)[0]\n",
    "time = np.interp(time_pix, np.arange(len(t)), t) * time_unit"
   ]
  },
  {
   "cell_type": "code",
   "execution_count": 71,
   "metadata": {},
   "outputs": [],
   "source": [
    "tempo = t_min+time"
   ]
  },
  {
   "cell_type": "code",
   "execution_count": 79,
   "metadata": {},
   "outputs": [
    {
     "data": {
      "image/png": "[encoded data removed]",
      "text/plain": [
       "<Figure size 432x288 with 1 Axes>"
      ]
     },
     "metadata": {
      "needs_background": "light"
     },
     "output_type": "display_data"
    }
   ],
   "source": [
    "a=plt.hist(tempo.value)"
   ]
  },
  {
   "cell_type": "code",
   "execution_count": null,
   "metadata": {},
   "outputs": [],
   "source": []
  },
  {
   "cell_type": "code",
   "execution_count": null,
   "metadata": {},
   "outputs": [],
   "source": []
  },
  {
   "cell_type": "code",
   "execution_count": null,
   "metadata": {},
   "outputs": [],
   "source": []
  },
  {
   "cell_type": "code",
   "execution_count": 4,
   "metadata": {},
   "outputs": [],
   "source": [
    "IRF_FILE = \"/Users/fabio/LAVORO/CTA/ACDC_ASTRI/ACDC1.1/ACDC1.1_ma9a/caldb/data/cta/prod3b/bcf/Astri_50h_June/irf_file.fits\"\n",
    "irfs = load_cta_irfs(IRF_FILE)"
   ]
  },
  {
   "cell_type": "code",
   "execution_count": 5,
   "metadata": {},
   "outputs": [],
   "source": [
    "aeff=irfs['aeff'] "
   ]
  },
  {
   "cell_type": "code",
   "execution_count": 14,
   "metadata": {},
   "outputs": [
    {
     "data": {
      "text/plain": [
       "<matplotlib.legend.Legend at 0x11f6981d0>"
      ]
     },
     "execution_count": 14,
     "metadata": {},
     "output_type": "execute_result"
    },
    {
     "data": {
      "image/png": "[encoded data removed]",
      "text/plain": [
       "<Figure size 432x288 with 1 Axes>"
      ]
     },
     "metadata": {
      "needs_background": "light"
     },
     "output_type": "display_data"
    }
   ],
   "source": [
    "aeff.plot_energy_dependence()\n",
    "plt.loglog()\n",
    "plt.xlim(0.1,200)\n",
    "plt.legend(loc='lower right')"
   ]
  },
  {
   "cell_type": "code",
   "execution_count": 21,
   "metadata": {},
   "outputs": [],
   "source": [
    "aeff.plot()\n",
    "plt.xlim(0.1,200)\n",
    "plt.savefig(\"/Users/fabio/Articles/MNRAS/ACDC/JoHEA/REVISION/ASTRI_eff.png\", dpi=300)\n",
    "plt.clf()\n",
    "plt.close()"
   ]
  },
  {
   "cell_type": "code",
   "execution_count": null,
   "metadata": {},
   "outputs": [],
   "source": []
  }
 ],
 "metadata": {
  "kernelspec": {
   "display_name": "Python 3",
   "language": "python",
   "name": "python3"
  },
  "language_info": {
   "codemirror_mode": {
    "name": "ipython",
    "version": 3
   },
   "file_extension": ".py",
   "mimetype": "text/x-python",
   "name": "python",
   "nbconvert_exporter": "python",
   "pygments_lexer": "ipython3",
   "version": "3.7.0"
  }
 },
 "nbformat": 4,
 "nbformat_minor": 4
}
