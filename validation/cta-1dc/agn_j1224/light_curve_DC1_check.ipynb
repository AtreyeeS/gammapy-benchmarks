{
 "cells": [
  {
   "cell_type": "markdown",
   "metadata": {},
   "source": [
    "# 1DC  Light curve estimation"
   ]
  },
  {
   "cell_type": "code",
   "execution_count": null,
   "metadata": {},
   "outputs": [],
   "source": [
    "%matplotlib inline\n",
    "import matplotlib.pyplot as plt\n",
    "\n",
    "import astropy.units as u\n",
    "from astropy.units import Quantity\n",
    "from astropy.coordinates import SkyCoord, Angle\n",
    "from astropy.time import Time\n",
    "from regions import CircleSkyRegion\n",
    "from astropy.table import unique, Column, Table\n",
    "\n",
    "import logging\n",
    "\n",
    "log = logging.getLogger(__name__)"
   ]
  },
  {
   "cell_type": "code",
   "execution_count": null,
   "metadata": {},
   "outputs": [],
   "source": [
    "from gammapy.data import ObservationFilter, DataStore\n",
    "from gammapy.modeling.models import PowerLawSpectralModel\n",
    "from gammapy.modeling.models import PointSpatialModel\n",
    "from gammapy.modeling.models import SkyModel, BackgroundModel\n",
    "from gammapy.cube import PSFKernel, MapMaker, MapDataset\n",
    "from gammapy.maps import WcsGeom, MapAxis\n",
    "from gammapy.irf import make_mean_psf, make_mean_edisp\n",
    "from gammapy.time import LightCurveEstimator\n",
    "from gammapy.spectrum import (\n",
    "    SpectrumExtraction,\n",
    "    ReflectedRegionsBackgroundEstimator,\n",
    ")\n",
    "from gammapy.time import LightCurve, LightCurveEstimator"
   ]
  },
  {
   "cell_type": "markdown",
   "metadata": {},
   "source": [
    "## Select the data"
   ]
  },
  {
   "cell_type": "code",
   "execution_count": null,
   "metadata": {},
   "outputs": [],
   "source": [
    "CTADATA = \"/home/boisson/CTA/PHYS/DC1/1dc/\"\n",
    "data_store = DataStore.from_dir(\"$CTADATA/index/agn\")\n",
    "data_store.info()\n",
    "#print()\n",
    "#print(\"Number of observations: \", len(data_store.obs_table))\n",
    "#print('DC1 total observation time (hours): {}'.format(data_store.obs_table['ONTIME'].sum() / 3600.))"
   ]
  },
  {
   "cell_type": "code",
   "execution_count": null,
   "metadata": {},
   "outputs": [],
   "source": [
    "!ls $CTADATA/index/agn"
   ]
  },
  {
   "cell_type": "code",
   "execution_count": null,
   "metadata": {},
   "outputs": [],
   "source": [
    "data_store.obs_table.meta"
   ]
  },
  {
   "cell_type": "code",
   "execution_count": null,
   "metadata": {},
   "outputs": [],
   "source": [
    "# Inputs / parameters\n",
    "fov_radius = 2 * u.deg\n",
    "emin, emax = [0.1, 10] * u.TeV "
   ]
  },
  {
   "cell_type": "code",
   "execution_count": null,
   "metadata": {},
   "outputs": [],
   "source": [
    "# Target definition\n",
    "target_position = SkyCoord(ra=186.227, dec=21.3796, unit='deg')\n",
    "on_region_radius = Angle(\"0.2 deg\")   \n",
    "on_region = CircleSkyRegion(center=target_position, radius=on_region_radius)"
   ]
  },
  {
   "cell_type": "code",
   "execution_count": null,
   "metadata": {},
   "outputs": [],
   "source": [
    "# Get list of relevant observations\n",
    "table = data_store.obs_table\n",
    "\n",
    "obs_pos = table.pointing_radec\n",
    "\n",
    "# Select observations that are at offset 0.2 to 2 deg (fov radius) from the source\n",
    "mask = target_position.separation(obs_pos) < fov_radius\n",
    "obs_ids = table[\"OBS_ID\"][mask].data\n",
    "obs_list = data_store.get_observations(obs_ids)\n",
    "print(f'Number of observations: {len(obs_ids)}')"
   ]
  },
  {
   "cell_type": "code",
   "execution_count": null,
   "metadata": {},
   "outputs": [],
   "source": [
    "# Look at the first few\n",
    "table[[\"OBS_ID\", \"RA_PNT\", \"DEC_PNT\", \"ONTIME\", \"LIVETIME\", 'DEADC', 'TSTART', 'TSTOP', 'DATE-OBS', 'TIME-OBS', 'DATE-END', 'TIME-END', \"OBJECT\", \"IRF\"]][mask][:5].show_in_browser(jsviewer=True)"
   ]
  },
  {
   "cell_type": "markdown",
   "metadata": {},
   "source": [
    "## Perform 1D spectra analysis"
   ]
  },
  {
   "cell_type": "code",
   "execution_count": null,
   "metadata": {},
   "outputs": [],
   "source": [
    "# Estimation of the background, ON - OFF measurement with reflected regions\n",
    "bkg_estimator = ReflectedRegionsBackgroundEstimator(\n",
    "    on_region=on_region, observations=obs_list\n",
    ")\n",
    "bkg_estimator.run()"
   ]
  },
  {
   "cell_type": "code",
   "execution_count": null,
   "metadata": {},
   "outputs": [],
   "source": [
    "#fig, ax, _ = bkg_estimator.plot()\n",
    "#ax.legend().set_visible(False)"
   ]
  },
  {
   "cell_type": "code",
   "execution_count": null,
   "metadata": {},
   "outputs": [],
   "source": [
    "energy_axis = MapAxis.from_bounds(\n",
    "    emin.value, emax.value, 10, unit=\"TeV\", name=\"energy\", interp=\"log\"\n",
    ")\n",
    "\n",
    "etrue_axis = MapAxis.from_bounds(\n",
    "    0.1, 20, 20, unit=\"TeV\", name=\"energy\", interp=\"log\"\n",
    ")\n",
    "energy_axis "
   ]
  },
  {
   "cell_type": "code",
   "execution_count": null,
   "metadata": {},
   "outputs": [],
   "source": [
    "# Note that we are not performing the extraction in time bins\n",
    "extraction = SpectrumExtraction(\n",
    "    observations=obs_list,\n",
    "    bkg_estimate=bkg_estimator.result,\n",
    "    containment_correction=True,\n",
    "    e_reco=energy_axis.edges,\n",
    "    e_true=etrue_axis.edges,\n",
    ")\n",
    "extraction.run()\n",
    "datasets_1d = extraction.spectrum_observations   # -> gammapy.spectrum.dataset.SpectrumDatasetOnOff "
   ]
  },
  {
   "cell_type": "code",
   "execution_count": null,
   "metadata": {},
   "outputs": [],
   "source": [
    "print(datasets_1d[0])\n",
    "print(datasets_1d[0].mask_safe)"
   ]
  },
  {
   "cell_type": "code",
   "execution_count": null,
   "metadata": {},
   "outputs": [],
   "source": [
    "extraction.compute_energy_threshold(\n",
    "    method_lo='area_max',\n",
    "    area_percent_lo=10,\n",
    ")\n",
    "print(datasets_1d[0].mask_safe)"
   ]
  },
  {
   "cell_type": "markdown",
   "metadata": {},
   "source": [
    "## Light Curve estimation for 1D spectra\n",
    "\n"
   ]
  },
  {
   "cell_type": "code",
   "execution_count": null,
   "metadata": {},
   "outputs": [],
   "source": [
    "# we need to set the times manually for now\n",
    "for dataset in datasets_1d:\n",
    "    dataset.counts.meta = dict()\n",
    "    dataset.counts.meta[\"t_start\"] = dataset.gti.time_start[0]# time_interval[0]\n",
    "    dataset.counts.meta[\"t_stop\"]  = dataset.gti.time_stop[-1] #time_interval[1]"
   ]
  },
  {
   "cell_type": "code",
   "execution_count": null,
   "metadata": {},
   "outputs": [],
   "source": [
    "# Define the source model - Use a pointsource + integrated power law model to directly get flux\n",
    "\n",
    "spectral_model_true = PowerLawSpectralModel(\n",
    "    index=3.75,\n",
    "    amplitude=(7.8e-16 * u.Unit('1 / (cm2 s MeV)')).to('1 / (cm2 s TeV)'),\n",
    "    reference=(200000 * u.MeV).to('TeV'),\n",
    ")"
   ]
  },
  {
   "cell_type": "code",
   "execution_count": null,
   "metadata": {},
   "outputs": [],
   "source": [
    "for dataset in datasets_1d:\n",
    "    # Copy the source model\n",
    "    model = spectral_model_true.copy()\n",
    "    model.name = \"PKSB1222+216\"\n",
    "    dataset.model = model"
   ]
  },
  {
   "cell_type": "code",
   "execution_count": null,
   "metadata": {},
   "outputs": [],
   "source": [
    "lc_maker_1d = LightCurveEstimator(datasets_1d, source=\"PKSB1222+216\", reoptimize=False)"
   ]
  },
  {
   "cell_type": "code",
   "execution_count": null,
   "metadata": {},
   "outputs": [],
   "source": [
    "%%time\n",
    "lc_1d = lc_maker_1d.run(e_ref=0.2 * u.TeV, e_min=0.1 * u.TeV, e_max=10.0 * u.TeV)"
   ]
  },
  {
   "cell_type": "code",
   "execution_count": null,
   "metadata": {},
   "outputs": [],
   "source": [
    "print(lc_1d.table.colnames)\n",
    "#lc_1d.table.info()"
   ]
  },
  {
   "cell_type": "code",
   "execution_count": null,
   "metadata": {},
   "outputs": [],
   "source": [
    "lc_1d.table['time_min', 'time_max', 'e_ref', 'e_min', 'e_max', 'ref_dnde', 'ref_flux', 'ref_eflux', 'ref_e2dnde', 'norm', 'loglike', 'norm_err', 'counts', 'norm_errp', 'norm_errn', 'norm_ul', 'sqrt_ts', 'ts', 'norm_scan', 'dloglike_scan', 'flux', 'flux_ul', 'flux_err', 'flux_errp', 'flux_errn'].show_in_browser(jsviewer=True)"
   ]
  },
  {
   "cell_type": "code",
   "execution_count": null,
   "metadata": {},
   "outputs": [],
   "source": [
    "incipit='PKSB1222+216'\n",
    "filename = 'gammapy_fluxes.ecsv'\n",
    "lc_1d.table[\"time_min\", \"time_max\", \"flux\", \"flux_err\"].write(filename, format='ascii.ecsv', overwrite=True)"
   ]
  },
  {
   "cell_type": "code",
   "execution_count": null,
   "metadata": {},
   "outputs": [],
   "source": [
    "# Plot gammapy lightcurve\n",
    "fig, ax = plt.subplots(1, 1, figsize=(15,8))  \n",
    "ax = lc_1d.plot(marker=\"o\", label=\"PKSB1222+216\")\n",
    "plt.legend()\n",
    "ax.semilogy()\n",
    "ax.set_xlabel('Time (MJD)')\n",
    "ax.set_ylabel('Flux (cm-2 s-1)')"
   ]
  },
  {
   "cell_type": "code",
   "execution_count": null,
   "metadata": {},
   "outputs": [],
   "source": [
    "lc_1d.compute_fvar()"
   ]
  },
  {
   "cell_type": "code",
   "execution_count": null,
   "metadata": {},
   "outputs": [],
   "source": [
    "filename = 'gammapy_lc_fluxes.png'\n",
    "print(f'Writing {filename}')\n",
    "fig.savefig(filename)"
   ]
  },
  {
   "cell_type": "markdown",
   "metadata": {},
   "source": [
    "### Model light curve"
   ]
  },
  {
   "cell_type": "code",
   "execution_count": null,
   "metadata": {},
   "outputs": [],
   "source": [
    "from gammapy.modeling.models import LightCurveTemplateTemporalModel\n",
    "#model_lc = LightCurve.read('$CTADATA/models/lightcrv_PKSB1222+216.fits')\n",
    "path = '$CTADATA/models/lightcrv_PKSB1222+216.fits'\n",
    "model_lc = LightCurveTemplateTemporalModel.read(path)"
   ]
  },
  {
   "cell_type": "code",
   "execution_count": null,
   "metadata": {},
   "outputs": [],
   "source": [
    "print(model_lc)"
   ]
  },
  {
   "cell_type": "code",
   "execution_count": null,
   "metadata": {},
   "outputs": [],
   "source": [
    "model_lc.table.show_in_browser(jsviewer=True)\n",
    "#model_lc.table.colnames\n",
    "#model_lc.table.info()"
   ]
  },
  {
   "cell_type": "code",
   "execution_count": null,
   "metadata": {},
   "outputs": [],
   "source": [
    "model_lc.table.meta"
   ]
  },
  {
   "cell_type": "code",
   "execution_count": null,
   "metadata": {},
   "outputs": [],
   "source": [
    "model_lc_time_ref = model_lc.table.meta['MJDREFI'] + model_lc.table.meta['MJDREFF']                                                                \n",
    "model_lc_time_ref"
   ]
  },
  {
   "cell_type": "code",
   "execution_count": null,
   "metadata": {},
   "outputs": [],
   "source": [
    "model_lc_normalization = 1e+01 * 6.44664  # scale * value\n",
    "\n",
    "# The spectrum is constant, so just pre-compute the integral flux, \n",
    "# and take the `model_lc_normalization` into account\n",
    "\n",
    "model_flux = spectral_model_true.integral(emin, emax) * model_lc_normalization\n",
    "energy =200 *u.GeV\n",
    "model_dnde = spectral_model_true(energy).to('cm-2 s-1 TeV-1') * model_lc_normalization\n",
    "print('model_flux:', model_flux)\n",
    "print('model_dnde:', model_dnde)"
   ]
  },
  {
   "cell_type": "code",
   "execution_count": null,
   "metadata": {},
   "outputs": [],
   "source": [
    "# To compute lc on obs GTI\n",
    "# compute the mean norm between the start and stop time for each observation \n",
    "rows = []\n",
    "for dataset in datasets_1d:\n",
    "    # print(dataset.gti.time_stop[-1], dataset.gti.time_start[0])\n",
    "    # LC method needs float seconds \n",
    "    time_min = (dataset.gti.time_start[0] - model_lc_time_ref).mjd *24.*3600\n",
    "    time_max = (dataset.gti.time_stop[-1] - model_lc_time_ref).mjd *24.*3600.\n",
    "    norm = model_lc.mean_norm_in_time_interval(time_min, time_max)\n",
    "    rows.append(dict(\n",
    "        obs_id=dataset.name,\n",
    "        time_min=time_min,\n",
    "        time_max=time_max,\n",
    "        tstart=dataset.gti.time_start[0].mjd,\n",
    "        tstop=dataset.gti.time_stop[-1].mjd,\n",
    "        norm=norm,\n",
    "    ))\n",
    "table = Table(rows=rows)\n",
    "table['flux'] = table['norm'] * model_flux\n",
    "table['dnde'] = table['norm'] * model_dnde"
   ]
  },
  {
   "cell_type": "code",
   "execution_count": null,
   "metadata": {},
   "outputs": [],
   "source": [
    "#list(Time.FORMATS)"
   ]
  },
  {
   "cell_type": "code",
   "execution_count": null,
   "metadata": {},
   "outputs": [],
   "source": [
    "# Plot model lightcurve\n",
    "fig, ax = plt.subplots(1, 1, figsize=(15,8))  \n",
    "ax.plot(table['tstart'], table['flux'], 'o')\n",
    "ax.semilogy()\n",
    "ax.set_xlabel('Time (MJD)')\n",
    "ax.set_ylabel('Flux (cm-2 s-1)')"
   ]
  },
  {
   "cell_type": "code",
   "execution_count": null,
   "metadata": {},
   "outputs": [],
   "source": [
    "incipit='PKSB1222+216'\n",
    "filename = 'model_fluxes.ecsv'\n",
    "table.write(filename, format='ascii.ecsv', overwrite=True)"
   ]
  },
  {
   "cell_type": "code",
   "execution_count": null,
   "metadata": {},
   "outputs": [],
   "source": [
    "filename = 'model_lc_fluxes.png'\n",
    "print(f'Writing {filename}')\n",
    "fig.savefig(filename)"
   ]
  },
  {
   "cell_type": "code",
   "execution_count": null,
   "metadata": {},
   "outputs": [],
   "source": [
    "table['flux'] / lc_1d.table['flux']"
   ]
  },
  {
   "cell_type": "code",
   "execution_count": null,
   "metadata": {},
   "outputs": [],
   "source": []
  }
 ],
 "metadata": {
  "kernelspec": {
   "display_name": "Python 3",
   "language": "python",
   "name": "python3"
  },
  "language_info": {
   "codemirror_mode": {
    "name": "ipython",
    "version": 3
   },
   "file_extension": ".py",
   "mimetype": "text/x-python",
   "name": "python",
   "nbconvert_exporter": "python",
   "pygments_lexer": "ipython3",
   "version": "3.7.0"
  }
 },
 "nbformat": 4,
 "nbformat_minor": 2
}
