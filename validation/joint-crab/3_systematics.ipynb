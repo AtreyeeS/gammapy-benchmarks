{
 "cells": [
  {
   "cell_type": "markdown",
   "metadata": {},
   "source": [
    "# Joint spectrum fit with systematics\n",
    "\n",
    "In this notebook, we re-execute the joint spectrum fit including systematics\n",
    "on the per-instrument energy scales, as described in the paper and scripted\n",
    "in ``joint_crab/fit_systematics.py``. Please see the paper for a description\n",
    "of the likelihood function and parameters.\n",
    "\n",
    "First we illustrate the effect of the energy scale on the spectral model.\n",
    "After the fit, we show the parameter correlations, and we show a plot\n",
    "illustrating the energy scale shifts for each instrument."
   ]
  },
  {
   "cell_type": "code",
   "execution_count": 1,
   "metadata": {},
   "outputs": [],
   "source": [
    "%matplotlib inline\n",
    "import numpy as np\n",
    "import astropy.units as u\n",
    "import matplotlib.pyplot as plt\n",
    "#from multinorm import MultiNorm\n",
    "from gammapy.modeling import Fit, Parameter\n",
    "from gammapy.datasets import Datasets\n",
    "from gammapy.modeling.models import LogParabolaSpectralModel, SkyModel\n",
    "from joint_crab.energy_bias_model import EnergyBiasSpectralModel\n",
    "#from joint_crab.fit_systematics import SystematicsSpectrumFit"
   ]
  },
  {
   "cell_type": "markdown",
   "metadata": {},
   "source": [
    "## Energy scale shift\n",
    "\n",
    "Let us see how the log-parabolic spectrum is modified by an energy scale shift of $\\pm20\\%$.\n",
    "\n",
    "For negative energy scale factor `z` the spectrum is shifted to lower energies,\n",
    "for positive `z` to higher energies."
   ]
  },
  {
   "cell_type": "code",
   "execution_count": 2,
   "metadata": {},
   "outputs": [
    {
     "data": {
      "image/png": "[encoded data removed]",
      "text/plain": [
       "<Figure size 432x288 with 1 Axes>"
      ]
     },
     "metadata": {
      "needs_background": "light"
     },
     "output_type": "display_data"
    }
   ],
   "source": [
    "log_parabola = LogParabolaSpectralModel(\n",
    "    amplitude=\"3.8e-11 cm-2s-1TeV-1\", \n",
    "    reference=1*u.TeV,\n",
    "    alpha=2.45, \n",
    "    beta=0.11\n",
    ")\n",
    "\n",
    "for z in [-0.2, 0, +0.2]:\n",
    "    model = EnergyBiasSpectralModel(log_parabola, \"bias\", z)\n",
    "    model.plot([0.01, 50] * u.TeV, energy_power=2, label=f\"z={z}\")\n",
    "\n",
    "plt.legend()\n",
    "plt.xlabel(\"E / TeV\")\n",
    "plt.ylabel(\n",
    "    r\"$E^2\\,d\\phi/dE\\,/\\,(\\mathrm{erg}\\,\\mathrm{cm}^{-2}\\,\\mathrm{s}^{-1})$\"\n",
    ")\n",
    "plt.grid()"
   ]
  },
  {
   "cell_type": "code",
   "execution_count": 3,
   "metadata": {},
   "outputs": [],
   "source": [
    "# Define priors on Datasets\n",
    "class GaussianLogPrior:\n",
    "    def __init__(self, mean, sigma):\n",
    "        self.mean = mean\n",
    "        self.sigma = sigma\n",
    "    \n",
    "    def __call__(self, value):\n",
    "        return (value-self.mean)**2/self.sigma**2\n",
    "\n",
    "class UniformLogPrior:\n",
    "    def __init__(self, min_value, max_value):\n",
    "        self.min = min_value\n",
    "        self.max = max_value\n",
    "        self.norm = 2*np.log(max_value-min_value)\n",
    "    \n",
    "    def __call__(self, value):\n",
    "        if value>self.min & value<=self.max:\n",
    "            return self.norm\n",
    "        else:\n",
    "            return 0.\n",
    "    \n",
    "def set_log_prior(self, prior):\n",
    "    self._log_prior=prior\n",
    "\n",
    "def log_prior(self):\n",
    "    if hasattr(self, \"_log_prior\"):\n",
    "        return self._log_prior(self.value)\n",
    "    else:\n",
    "        return 1.\n",
    "    \n",
    "Parameter.set_log_prior = set_log_prior\n",
    "Parameter.log_prior = log_prior\n",
    "\n",
    "def stat_sum(self):\n",
    "    \"\"\"Compute joint likelihood\"\"\"\n",
    "    stat_sum = 0\n",
    "    # TODO: add parallel evaluation of likelihoods\n",
    "    for dataset in self:\n",
    "        stat_sum += dataset.stat_sum()\n",
    "    for param in self.parameters:\n",
    "        stat_sum += param.log_prior()\n",
    "    return stat_sum\n",
    "\n",
    "Datasets.stat_sum = stat_sum"
   ]
  },
  {
   "cell_type": "code",
   "execution_count": 4,
   "metadata": {},
   "outputs": [],
   "source": [
    "def read_datasets_and_set_model(instrument, model):\n",
    "    # Read from disk\n",
    "    datasets = Datasets.read(f\"reduced_{instrument}/_datasets.yaml\",\n",
    "                             f\"reduced_{instrument}/_models.yaml\")\n",
    "\n",
    "    # Set model and fit range\n",
    "    for ds in datasets:\n",
    "        ds.models = model\n",
    "    return datasets._datasets"
   ]
  },
  {
   "cell_type": "code",
   "execution_count": 5,
   "metadata": {},
   "outputs": [],
   "source": [
    "instruments = [\"hess\",\"magic\",\"veritas\",\"fact\", \"fermi\"]\n",
    "priors = [0.15,0.15,0.15,0.15, 0.05]\n",
    "datasets = []\n",
    "for instrument, prior in zip(instruments, priors):\n",
    "    model = SkyModel(\n",
    "        spectral_model=EnergyBiasSpectralModel(log_parabola, f\"z_{instrument}\", 0.),\n",
    "        name=f\"Crab_{instrument}\"\n",
    "    )\n",
    "    prior_fcn = GaussianLogPrior(0., prior)\n",
    "    model.parameters[f\"z_{instrument}\"].set_log_prior(prior_fcn) \n",
    "    datasets.extend(read_datasets_and_set_model(instrument, model))\n",
    "\n",
    "datasets=Datasets(datasets)"
   ]
  },
  {
   "cell_type": "code",
   "execution_count": 6,
   "metadata": {},
   "outputs": [],
   "source": [
    "fit = Fit(datasets)\n",
    "result = fit.run()\n",
    "res=fit.covariance()"
   ]
  },
  {
   "cell_type": "code",
   "execution_count": 7,
   "metadata": {},
   "outputs": [
    {
     "data": {
      "text/html": [
       "<i>Table length=9</i>\n",
       "<table id=\"table4821639800\" class=\"table-striped table-bordered table-condensed\">\n",
       "<thead><tr><th>name</th><th>value</th><th>error</th><th>unit</th><th>min</th><th>max</th><th>frozen</th></tr></thead>\n",
       "<thead><tr><th>str9</th><th>float64</th><th>float64</th><th>str14</th><th>float64</th><th>float64</th><th>bool</th></tr></thead>\n",
       "<tr><td>z_hess</td><td>-1.108e-01</td><td>4.811e-02</td><td></td><td>-1.000e+00</td><td>2.000e+00</td><td>False</td></tr>\n",
       "<tr><td>amplitude</td><td>3.367e-11</td><td>4.228e-12</td><td>cm-2 s-1 TeV-1</td><td>nan</td><td>nan</td><td>False</td></tr>\n",
       "<tr><td>reference</td><td>1.000e+00</td><td>0.000e+00</td><td>TeV</td><td>nan</td><td>nan</td><td>True</td></tr>\n",
       "<tr><td>alpha</td><td>2.506e+00</td><td>3.834e-02</td><td></td><td>nan</td><td>nan</td><td>False</td></tr>\n",
       "<tr><td>beta</td><td>1.073e-01</td><td>1.198e-02</td><td></td><td>nan</td><td>nan</td><td>False</td></tr>\n",
       "<tr><td>z_magic</td><td>-5.489e-02</td><td>4.649e-02</td><td></td><td>-1.000e+00</td><td>2.000e+00</td><td>False</td></tr>\n",
       "<tr><td>z_veritas</td><td>-2.382e-02</td><td>5.171e-02</td><td></td><td>-1.000e+00</td><td>2.000e+00</td><td>False</td></tr>\n",
       "<tr><td>z_fact</td><td>2.166e-02</td><td>5.801e-02</td><td></td><td>-1.000e+00</td><td>2.000e+00</td><td>False</td></tr>\n",
       "<tr><td>z_fermi</td><td>1.667e-02</td><td>4.326e-02</td><td></td><td>-1.000e+00</td><td>2.000e+00</td><td>False</td></tr>\n",
       "</table>"
      ],
      "text/plain": [
       "<Table length=9>\n",
       "   name     value      error        unit         min        max    frozen\n",
       "   str9    float64    float64      str14       float64    float64   bool \n",
       "--------- ---------- --------- -------------- ---------- --------- ------\n",
       "   z_hess -1.108e-01 4.811e-02                -1.000e+00 2.000e+00  False\n",
       "amplitude  3.367e-11 4.228e-12 cm-2 s-1 TeV-1        nan       nan  False\n",
       "reference  1.000e+00 0.000e+00            TeV        nan       nan   True\n",
       "    alpha  2.506e+00 3.834e-02                       nan       nan  False\n",
       "     beta  1.073e-01 1.198e-02                       nan       nan  False\n",
       "  z_magic -5.489e-02 4.649e-02                -1.000e+00 2.000e+00  False\n",
       "z_veritas -2.382e-02 5.171e-02                -1.000e+00 2.000e+00  False\n",
       "   z_fact  2.166e-02 5.801e-02                -1.000e+00 2.000e+00  False\n",
       "  z_fermi  1.667e-02 4.326e-02                -1.000e+00 2.000e+00  False"
      ]
     },
     "execution_count": 7,
     "metadata": {},
     "output_type": "execute_result"
    }
   ],
   "source": [
    "res.parameters.to_table()"
   ]
  },
  {
   "cell_type": "markdown",
   "metadata": {},
   "source": [
    "## Plot\n",
    "\n",
    "The spectral results with the modified likelihood are given in Figure 4 of the paper.\n",
    "\n",
    "Here we plot the results for the energy-scale factors."
   ]
  },
  {
   "cell_type": "code",
   "execution_count": 8,
   "metadata": {},
   "outputs": [
    {
     "data": {
      "image/png": "[encoded data removed]",
      "text/plain": [
       "<Figure size 576x432 with 1 Axes>"
      ]
     },
     "metadata": {
      "needs_background": "light"
     },
     "output_type": "display_data"
    }
   ],
   "source": [
    "fig, ax = plt.subplots(figsize=(8, 6))\n",
    "\n",
    "names = [\"fermi\", \"magic\", \"veritas\", \"fact\", \"hess\"]\n",
    "\n",
    "for y, name in enumerate(names):\n",
    "    x = res.parameters[f\"z_{name}\"].value\n",
    "    xerr = res.parameters.error(f\"z_{name}\")\n",
    "    ax.errorbar(x, y, xerr=xerr, ls=\"-\", marker=\"o\", ms=10, color=\"k\")\n",
    "\n",
    "ax.set_ylim([-1, 5])\n",
    "ax.set_yticks(list(range(5)))\n",
    "ax.set_yticklabels(names)\n",
    "ax.grid()\n",
    "ax.axvline(0.15, color=\"k\", lw=3, ls=\"--\")\n",
    "ax.axvline(-0.15, color=\"k\", lw=3, ls=\"--\");"
   ]
  },
  {
   "cell_type": "code",
   "execution_count": null,
   "metadata": {},
   "outputs": [],
   "source": []
  }
 ],
 "metadata": {
  "kernelspec": {
   "display_name": "Python 3",
   "language": "python",
   "name": "python3"
  },
  "language_info": {
   "codemirror_mode": {
    "name": "ipython",
    "version": 3
   },
   "file_extension": ".py",
   "mimetype": "text/x-python",
   "name": "python",
   "nbconvert_exporter": "python",
   "pygments_lexer": "ipython3",
   "version": "3.7.0"
  }
 },
 "nbformat": 4,
 "nbformat_minor": 4
}
